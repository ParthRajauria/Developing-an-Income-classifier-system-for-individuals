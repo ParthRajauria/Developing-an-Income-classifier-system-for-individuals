{
 "cells": [
  {
   "cell_type": "markdown",
   "metadata": {},
   "source": [
    "#                                  *PROBLEM STATEMENT*"
   ]
  },
  {
   "cell_type": "markdown",
   "metadata": {},
   "source": [
    "                                     \n",
    "Subsidy Inc. delivers subsidies to individuals based on their income. \n",
    "Subsidy Inc. has obtained a large data set of authenticated data on individual income, demographic parameters, and a few financial parameters. \n",
    "Susbidy Inc. wants us to: *Develop an income classifier system for individuals*\n",
    "\n"
   ]
  },
  {
   "cell_type": "markdown",
   "metadata": {},
   "source": [
    "\n"
   ]
  },
  {
   "cell_type": "markdown",
   "metadata": {},
   "source": [
    "# MAIN OBJECTIVE"
   ]
  },
  {
   "cell_type": "markdown",
   "metadata": {},
   "source": [
    "                                    \n",
    "Simplify the data system by reducing the number of variables to be studied, without sacrificing too much accuracy. Such a system would help Subsidy Inc. in planning subsidy outlay, monitoring and preventing misuse.                                      "
   ]
  },
  {
   "cell_type": "markdown",
   "metadata": {},
   "source": [
    "*PROBLEM CONCEPTUALIZATION* - Develop an income classifier for individuals with reduced number of varaibles.\n"
   ]
  },
  {
   "cell_type": "markdown",
   "metadata": {},
   "source": [
    "*PROBLEM CHARACTERIZATION* - Classification"
   ]
  },
  {
   "cell_type": "markdown",
   "metadata": {},
   "source": [
    "We will now import the necessary libraries required to work with the data."
   ]
  },
  {
   "cell_type": "code",
   "execution_count": 1,
   "metadata": {
    "collapsed": true
   },
   "outputs": [],
   "source": [
    "#To work with dataframes\n",
    "import pandas as pd\n",
    "\n",
    "# To perform numerical operations\n",
    "import numpy as np\n",
    "\n",
    "# To visualize data\n",
    "import seaborn as sns\n",
    "import matplotlib.pyplot as plt\n",
    "\n",
    "# To partition the data\n",
    "from sklearn.model_selection import train_test_split\n",
    "\n",
    "# Importing library for logistic regression\n",
    "from sklearn.linear_model import LogisticRegression\n",
    "\n",
    "# Importing performance metrics - acuracy score & confusion matrix \n",
    "from sklearn.metrics import accuracy_score, confusion_matrix"
   ]
  },
  {
   "cell_type": "markdown",
   "metadata": {},
   "source": [
    "Our raw data is stored in the file named 'income.csv'. We will now import it and convert it into dataframe for further processing."
   ]
  },
  {
   "cell_type": "code",
   "execution_count": 2,
   "metadata": {
    "collapsed": true
   },
   "outputs": [],
   "source": [
    "# Importing data\n",
    "data_income = pd.read_csv('income.csv')\n",
    "\n",
    "# Creating a copy of original data\n",
    "data = data_income.copy()"
   ]
  },
  {
   "cell_type": "markdown",
   "metadata": {},
   "source": [
    "Now we will perform Exloratory Data Analysis on the copy of original data.\n",
    "We will perform the following tasks : - \n",
    "1. Getting to know the Data,\n",
    "2. Data preprocessing (Missing values)\n",
    "3. Cross tables and data visualization. "
   ]
  },
  {
   "cell_type": "markdown",
   "metadata": {},
   "source": [
    "# Getting to know the data"
   ]
  },
  {
   "cell_type": "code",
   "execution_count": 42,
   "metadata": {},
   "outputs": [
    {
     "name": "stdout",
     "output_type": "stream",
     "text": [
      "   age       JobType         EdType        maritalstatus       occupation  \\\n",
      "0   45       Private        HS-grad             Divorced     Adm-clerical   \n",
      "1   24   Federal-gov        HS-grad        Never-married     Armed-Forces   \n",
      "2   44       Private   Some-college   Married-civ-spouse   Prof-specialty   \n",
      "3   27       Private            9th        Never-married     Craft-repair   \n",
      "4   20       Private   Some-college        Never-married            Sales   \n",
      "\n",
      "      relationship    race   gender  capitalgain  capitalloss  hoursperweek  \\\n",
      "0    Not-in-family   White   Female            0            0            28   \n",
      "1        Own-child   White     Male            0            0            40   \n",
      "2          Husband   White     Male            0            0            40   \n",
      "3   Other-relative   White     Male            0            0            40   \n",
      "4    Not-in-family   White     Male            0            0            35   \n",
      "\n",
      "    nativecountry                        SalStat  \n",
      "0   United-States   less than or equal to 50,000  \n",
      "1   United-States   less than or equal to 50,000  \n",
      "2   United-States            greater than 50,000  \n",
      "3          Mexico   less than or equal to 50,000  \n",
      "4   United-States   less than or equal to 50,000  \n"
     ]
    }
   ],
   "source": [
    "print(data.head()) # By default it shows the first 5 rows of the Data with all the columns"
   ]
  },
  {
   "cell_type": "code",
   "execution_count": 3,
   "metadata": {},
   "outputs": [
    {
     "name": "stdout",
     "output_type": "stream",
     "text": [
      "<class 'pandas.core.frame.DataFrame'>\n",
      "RangeIndex: 31978 entries, 0 to 31977\n",
      "Data columns (total 13 columns):\n",
      "age              31978 non-null int64\n",
      "JobType          31978 non-null object\n",
      "EdType           31978 non-null object\n",
      "maritalstatus    31978 non-null object\n",
      "occupation       31978 non-null object\n",
      "relationship     31978 non-null object\n",
      "race             31978 non-null object\n",
      "gender           31978 non-null object\n",
      "capitalgain      31978 non-null int64\n",
      "capitalloss      31978 non-null int64\n",
      "hoursperweek     31978 non-null int64\n",
      "nativecountry    31978 non-null object\n",
      "SalStat          31978 non-null object\n",
      "dtypes: int64(4), object(9)\n",
      "memory usage: 3.2+ MB\n",
      "None\n",
      "(31978, 13)\n"
     ]
    }
   ],
   "source": [
    "# To check variable's data type.\n",
    "print(data.info())\n",
    "print(data.shape) # We get to know the number of rows and columns in our data."
   ]
  },
  {
   "cell_type": "markdown",
   "metadata": {},
   "source": [
    "We can see that there are 31978 rows and 13 columns in our dataset."
   ]
  },
  {
   "cell_type": "markdown",
   "metadata": {},
   "source": [
    "# VARIABLE DESCRIPTION\n"
   ]
  },
  {
   "cell_type": "markdown",
   "metadata": {},
   "source": [
    "### age\n",
    "* DataType - integer\n",
    "* Description - The age of individual in years.\n",
    "\n",
    "### JobType\n",
    "* DataType - string\n",
    "* Description - Working status of person, which sector does he work in.\n",
    "\n",
    "### EdType\n",
    "* DataType - string\n",
    "* Description - The highes level of education person possess.\n",
    "\n",
    "### maritalstatus\n",
    "* DataType - string\n",
    "* Description - The marital status of the individual\n",
    "\n",
    "### occupation\n",
    "* DataType - string\n",
    "* Description - The type of work individual does\n",
    "\n",
    "### relationship\n",
    "* DataType - string\n",
    "* Description - Relationship of individual to his/her household\n",
    "\n",
    "### race\n",
    "* DataType - string\n",
    "* Description - The individual's race (Black, White & 3 more categories)\n",
    "\n",
    "### gender\n",
    "* DataType - string\n",
    "* Description - The individual's gender\n",
    "\n",
    "### capitalgain\n",
    "* DataType - integer\n",
    "* Description - The capital gains of the individual (from selling an asset such as a stock or bond for more than the original purchase price).\n",
    "\n",
    "### capitalloss\n",
    "* DataType - integer\n",
    "* Description - The capital losses of the individual (from selling an asset such as a stock or bond for less than the original purchase price).\n",
    "\n",
    "### hoursperweek\n",
    "* DataType - integer\n",
    "* Description - The number of hours individual works per week.\n",
    "\n",
    "### nativecountry\n",
    "* DataType - integer\n",
    "* Description - The native country of the individual.\n",
    "\n",
    "### SalStat\n",
    "* DataType - integer\n",
    "* Description - The outcome variable indicating whether a person's salary status is greater than 50,000 or less than, equal to 50,000 $.\n",
    "\n",
    "\n",
    "\n"
   ]
  },
  {
   "cell_type": "code",
   "execution_count": 4,
   "metadata": {},
   "outputs": [
    {
     "name": "stdout",
     "output_type": "stream",
     "text": [
      "0                  Private\n",
      "1              Federal-gov\n",
      "2                  Private\n",
      "3                  Private\n",
      "4                  Private\n",
      "5                  Private\n",
      "6                  Private\n",
      "7                  Private\n",
      "8                        ?\n",
      "9                  Private\n",
      "10            Self-emp-inc\n",
      "11                 Private\n",
      "12        Self-emp-not-inc\n",
      "13                 Private\n",
      "14                 Private\n",
      "15                 Private\n",
      "16                 Private\n",
      "17                       ?\n",
      "18                 Private\n",
      "19               Local-gov\n",
      "20                 Private\n",
      "21                 Private\n",
      "22                 Private\n",
      "23                 Private\n",
      "24                 Private\n",
      "25                 Private\n",
      "26                 Private\n",
      "27                 Private\n",
      "28                 Private\n",
      "29                       ?\n",
      "               ...        \n",
      "31948              Private\n",
      "31949              Private\n",
      "31950              Private\n",
      "31951            State-gov\n",
      "31952              Private\n",
      "31953              Private\n",
      "31954              Private\n",
      "31955            Local-gov\n",
      "31956            State-gov\n",
      "31957              Private\n",
      "31958              Private\n",
      "31959            State-gov\n",
      "31960              Private\n",
      "31961              Private\n",
      "31962              Private\n",
      "31963          Federal-gov\n",
      "31964              Private\n",
      "31965         Self-emp-inc\n",
      "31966            Local-gov\n",
      "31967                    ?\n",
      "31968                    ?\n",
      "31969     Self-emp-not-inc\n",
      "31970              Private\n",
      "31971              Private\n",
      "31972              Private\n",
      "31973            Local-gov\n",
      "31974            Local-gov\n",
      "31975              Private\n",
      "31976            Local-gov\n",
      "31977              Private\n",
      "Name: JobType, Length: 31978, dtype: object\n"
     ]
    }
   ],
   "source": [
    "print(data['JobType'])"
   ]
  },
  {
   "cell_type": "code",
   "execution_count": 5,
   "metadata": {},
   "outputs": [
    {
     "data": {
      "text/html": [
       "<div>\n",
       "<style>\n",
       "    .dataframe thead tr:only-child th {\n",
       "        text-align: right;\n",
       "    }\n",
       "\n",
       "    .dataframe thead th {\n",
       "        text-align: left;\n",
       "    }\n",
       "\n",
       "    .dataframe tbody tr th {\n",
       "        vertical-align: top;\n",
       "    }\n",
       "</style>\n",
       "<table border=\"1\" class=\"dataframe\">\n",
       "  <thead>\n",
       "    <tr style=\"text-align: right;\">\n",
       "      <th></th>\n",
       "      <th>age</th>\n",
       "      <th>JobType</th>\n",
       "      <th>EdType</th>\n",
       "      <th>maritalstatus</th>\n",
       "      <th>occupation</th>\n",
       "      <th>relationship</th>\n",
       "      <th>race</th>\n",
       "      <th>gender</th>\n",
       "      <th>capitalgain</th>\n",
       "      <th>capitalloss</th>\n",
       "      <th>hoursperweek</th>\n",
       "      <th>nativecountry</th>\n",
       "      <th>SalStat</th>\n",
       "    </tr>\n",
       "  </thead>\n",
       "  <tbody>\n",
       "    <tr>\n",
       "      <th>0</th>\n",
       "      <td>False</td>\n",
       "      <td>False</td>\n",
       "      <td>False</td>\n",
       "      <td>False</td>\n",
       "      <td>False</td>\n",
       "      <td>False</td>\n",
       "      <td>False</td>\n",
       "      <td>False</td>\n",
       "      <td>False</td>\n",
       "      <td>False</td>\n",
       "      <td>False</td>\n",
       "      <td>False</td>\n",
       "      <td>False</td>\n",
       "    </tr>\n",
       "    <tr>\n",
       "      <th>1</th>\n",
       "      <td>False</td>\n",
       "      <td>False</td>\n",
       "      <td>False</td>\n",
       "      <td>False</td>\n",
       "      <td>False</td>\n",
       "      <td>False</td>\n",
       "      <td>False</td>\n",
       "      <td>False</td>\n",
       "      <td>False</td>\n",
       "      <td>False</td>\n",
       "      <td>False</td>\n",
       "      <td>False</td>\n",
       "      <td>False</td>\n",
       "    </tr>\n",
       "    <tr>\n",
       "      <th>2</th>\n",
       "      <td>False</td>\n",
       "      <td>False</td>\n",
       "      <td>False</td>\n",
       "      <td>False</td>\n",
       "      <td>False</td>\n",
       "      <td>False</td>\n",
       "      <td>False</td>\n",
       "      <td>False</td>\n",
       "      <td>False</td>\n",
       "      <td>False</td>\n",
       "      <td>False</td>\n",
       "      <td>False</td>\n",
       "      <td>False</td>\n",
       "    </tr>\n",
       "    <tr>\n",
       "      <th>3</th>\n",
       "      <td>False</td>\n",
       "      <td>False</td>\n",
       "      <td>False</td>\n",
       "      <td>False</td>\n",
       "      <td>False</td>\n",
       "      <td>False</td>\n",
       "      <td>False</td>\n",
       "      <td>False</td>\n",
       "      <td>False</td>\n",
       "      <td>False</td>\n",
       "      <td>False</td>\n",
       "      <td>False</td>\n",
       "      <td>False</td>\n",
       "    </tr>\n",
       "    <tr>\n",
       "      <th>4</th>\n",
       "      <td>False</td>\n",
       "      <td>False</td>\n",
       "      <td>False</td>\n",
       "      <td>False</td>\n",
       "      <td>False</td>\n",
       "      <td>False</td>\n",
       "      <td>False</td>\n",
       "      <td>False</td>\n",
       "      <td>False</td>\n",
       "      <td>False</td>\n",
       "      <td>False</td>\n",
       "      <td>False</td>\n",
       "      <td>False</td>\n",
       "    </tr>\n",
       "    <tr>\n",
       "      <th>5</th>\n",
       "      <td>False</td>\n",
       "      <td>False</td>\n",
       "      <td>False</td>\n",
       "      <td>False</td>\n",
       "      <td>False</td>\n",
       "      <td>False</td>\n",
       "      <td>False</td>\n",
       "      <td>False</td>\n",
       "      <td>False</td>\n",
       "      <td>False</td>\n",
       "      <td>False</td>\n",
       "      <td>False</td>\n",
       "      <td>False</td>\n",
       "    </tr>\n",
       "    <tr>\n",
       "      <th>6</th>\n",
       "      <td>False</td>\n",
       "      <td>False</td>\n",
       "      <td>False</td>\n",
       "      <td>False</td>\n",
       "      <td>False</td>\n",
       "      <td>False</td>\n",
       "      <td>False</td>\n",
       "      <td>False</td>\n",
       "      <td>False</td>\n",
       "      <td>False</td>\n",
       "      <td>False</td>\n",
       "      <td>False</td>\n",
       "      <td>False</td>\n",
       "    </tr>\n",
       "    <tr>\n",
       "      <th>7</th>\n",
       "      <td>False</td>\n",
       "      <td>False</td>\n",
       "      <td>False</td>\n",
       "      <td>False</td>\n",
       "      <td>False</td>\n",
       "      <td>False</td>\n",
       "      <td>False</td>\n",
       "      <td>False</td>\n",
       "      <td>False</td>\n",
       "      <td>False</td>\n",
       "      <td>False</td>\n",
       "      <td>False</td>\n",
       "      <td>False</td>\n",
       "    </tr>\n",
       "    <tr>\n",
       "      <th>8</th>\n",
       "      <td>False</td>\n",
       "      <td>False</td>\n",
       "      <td>False</td>\n",
       "      <td>False</td>\n",
       "      <td>False</td>\n",
       "      <td>False</td>\n",
       "      <td>False</td>\n",
       "      <td>False</td>\n",
       "      <td>False</td>\n",
       "      <td>False</td>\n",
       "      <td>False</td>\n",
       "      <td>False</td>\n",
       "      <td>False</td>\n",
       "    </tr>\n",
       "    <tr>\n",
       "      <th>9</th>\n",
       "      <td>False</td>\n",
       "      <td>False</td>\n",
       "      <td>False</td>\n",
       "      <td>False</td>\n",
       "      <td>False</td>\n",
       "      <td>False</td>\n",
       "      <td>False</td>\n",
       "      <td>False</td>\n",
       "      <td>False</td>\n",
       "      <td>False</td>\n",
       "      <td>False</td>\n",
       "      <td>False</td>\n",
       "      <td>False</td>\n",
       "    </tr>\n",
       "    <tr>\n",
       "      <th>10</th>\n",
       "      <td>False</td>\n",
       "      <td>False</td>\n",
       "      <td>False</td>\n",
       "      <td>False</td>\n",
       "      <td>False</td>\n",
       "      <td>False</td>\n",
       "      <td>False</td>\n",
       "      <td>False</td>\n",
       "      <td>False</td>\n",
       "      <td>False</td>\n",
       "      <td>False</td>\n",
       "      <td>False</td>\n",
       "      <td>False</td>\n",
       "    </tr>\n",
       "    <tr>\n",
       "      <th>11</th>\n",
       "      <td>False</td>\n",
       "      <td>False</td>\n",
       "      <td>False</td>\n",
       "      <td>False</td>\n",
       "      <td>False</td>\n",
       "      <td>False</td>\n",
       "      <td>False</td>\n",
       "      <td>False</td>\n",
       "      <td>False</td>\n",
       "      <td>False</td>\n",
       "      <td>False</td>\n",
       "      <td>False</td>\n",
       "      <td>False</td>\n",
       "    </tr>\n",
       "    <tr>\n",
       "      <th>12</th>\n",
       "      <td>False</td>\n",
       "      <td>False</td>\n",
       "      <td>False</td>\n",
       "      <td>False</td>\n",
       "      <td>False</td>\n",
       "      <td>False</td>\n",
       "      <td>False</td>\n",
       "      <td>False</td>\n",
       "      <td>False</td>\n",
       "      <td>False</td>\n",
       "      <td>False</td>\n",
       "      <td>False</td>\n",
       "      <td>False</td>\n",
       "    </tr>\n",
       "    <tr>\n",
       "      <th>13</th>\n",
       "      <td>False</td>\n",
       "      <td>False</td>\n",
       "      <td>False</td>\n",
       "      <td>False</td>\n",
       "      <td>False</td>\n",
       "      <td>False</td>\n",
       "      <td>False</td>\n",
       "      <td>False</td>\n",
       "      <td>False</td>\n",
       "      <td>False</td>\n",
       "      <td>False</td>\n",
       "      <td>False</td>\n",
       "      <td>False</td>\n",
       "    </tr>\n",
       "    <tr>\n",
       "      <th>14</th>\n",
       "      <td>False</td>\n",
       "      <td>False</td>\n",
       "      <td>False</td>\n",
       "      <td>False</td>\n",
       "      <td>False</td>\n",
       "      <td>False</td>\n",
       "      <td>False</td>\n",
       "      <td>False</td>\n",
       "      <td>False</td>\n",
       "      <td>False</td>\n",
       "      <td>False</td>\n",
       "      <td>False</td>\n",
       "      <td>False</td>\n",
       "    </tr>\n",
       "    <tr>\n",
       "      <th>15</th>\n",
       "      <td>False</td>\n",
       "      <td>False</td>\n",
       "      <td>False</td>\n",
       "      <td>False</td>\n",
       "      <td>False</td>\n",
       "      <td>False</td>\n",
       "      <td>False</td>\n",
       "      <td>False</td>\n",
       "      <td>False</td>\n",
       "      <td>False</td>\n",
       "      <td>False</td>\n",
       "      <td>False</td>\n",
       "      <td>False</td>\n",
       "    </tr>\n",
       "    <tr>\n",
       "      <th>16</th>\n",
       "      <td>False</td>\n",
       "      <td>False</td>\n",
       "      <td>False</td>\n",
       "      <td>False</td>\n",
       "      <td>False</td>\n",
       "      <td>False</td>\n",
       "      <td>False</td>\n",
       "      <td>False</td>\n",
       "      <td>False</td>\n",
       "      <td>False</td>\n",
       "      <td>False</td>\n",
       "      <td>False</td>\n",
       "      <td>False</td>\n",
       "    </tr>\n",
       "    <tr>\n",
       "      <th>17</th>\n",
       "      <td>False</td>\n",
       "      <td>False</td>\n",
       "      <td>False</td>\n",
       "      <td>False</td>\n",
       "      <td>False</td>\n",
       "      <td>False</td>\n",
       "      <td>False</td>\n",
       "      <td>False</td>\n",
       "      <td>False</td>\n",
       "      <td>False</td>\n",
       "      <td>False</td>\n",
       "      <td>False</td>\n",
       "      <td>False</td>\n",
       "    </tr>\n",
       "    <tr>\n",
       "      <th>18</th>\n",
       "      <td>False</td>\n",
       "      <td>False</td>\n",
       "      <td>False</td>\n",
       "      <td>False</td>\n",
       "      <td>False</td>\n",
       "      <td>False</td>\n",
       "      <td>False</td>\n",
       "      <td>False</td>\n",
       "      <td>False</td>\n",
       "      <td>False</td>\n",
       "      <td>False</td>\n",
       "      <td>False</td>\n",
       "      <td>False</td>\n",
       "    </tr>\n",
       "    <tr>\n",
       "      <th>19</th>\n",
       "      <td>False</td>\n",
       "      <td>False</td>\n",
       "      <td>False</td>\n",
       "      <td>False</td>\n",
       "      <td>False</td>\n",
       "      <td>False</td>\n",
       "      <td>False</td>\n",
       "      <td>False</td>\n",
       "      <td>False</td>\n",
       "      <td>False</td>\n",
       "      <td>False</td>\n",
       "      <td>False</td>\n",
       "      <td>False</td>\n",
       "    </tr>\n",
       "    <tr>\n",
       "      <th>20</th>\n",
       "      <td>False</td>\n",
       "      <td>False</td>\n",
       "      <td>False</td>\n",
       "      <td>False</td>\n",
       "      <td>False</td>\n",
       "      <td>False</td>\n",
       "      <td>False</td>\n",
       "      <td>False</td>\n",
       "      <td>False</td>\n",
       "      <td>False</td>\n",
       "      <td>False</td>\n",
       "      <td>False</td>\n",
       "      <td>False</td>\n",
       "    </tr>\n",
       "    <tr>\n",
       "      <th>21</th>\n",
       "      <td>False</td>\n",
       "      <td>False</td>\n",
       "      <td>False</td>\n",
       "      <td>False</td>\n",
       "      <td>False</td>\n",
       "      <td>False</td>\n",
       "      <td>False</td>\n",
       "      <td>False</td>\n",
       "      <td>False</td>\n",
       "      <td>False</td>\n",
       "      <td>False</td>\n",
       "      <td>False</td>\n",
       "      <td>False</td>\n",
       "    </tr>\n",
       "    <tr>\n",
       "      <th>22</th>\n",
       "      <td>False</td>\n",
       "      <td>False</td>\n",
       "      <td>False</td>\n",
       "      <td>False</td>\n",
       "      <td>False</td>\n",
       "      <td>False</td>\n",
       "      <td>False</td>\n",
       "      <td>False</td>\n",
       "      <td>False</td>\n",
       "      <td>False</td>\n",
       "      <td>False</td>\n",
       "      <td>False</td>\n",
       "      <td>False</td>\n",
       "    </tr>\n",
       "    <tr>\n",
       "      <th>23</th>\n",
       "      <td>False</td>\n",
       "      <td>False</td>\n",
       "      <td>False</td>\n",
       "      <td>False</td>\n",
       "      <td>False</td>\n",
       "      <td>False</td>\n",
       "      <td>False</td>\n",
       "      <td>False</td>\n",
       "      <td>False</td>\n",
       "      <td>False</td>\n",
       "      <td>False</td>\n",
       "      <td>False</td>\n",
       "      <td>False</td>\n",
       "    </tr>\n",
       "    <tr>\n",
       "      <th>24</th>\n",
       "      <td>False</td>\n",
       "      <td>False</td>\n",
       "      <td>False</td>\n",
       "      <td>False</td>\n",
       "      <td>False</td>\n",
       "      <td>False</td>\n",
       "      <td>False</td>\n",
       "      <td>False</td>\n",
       "      <td>False</td>\n",
       "      <td>False</td>\n",
       "      <td>False</td>\n",
       "      <td>False</td>\n",
       "      <td>False</td>\n",
       "    </tr>\n",
       "    <tr>\n",
       "      <th>25</th>\n",
       "      <td>False</td>\n",
       "      <td>False</td>\n",
       "      <td>False</td>\n",
       "      <td>False</td>\n",
       "      <td>False</td>\n",
       "      <td>False</td>\n",
       "      <td>False</td>\n",
       "      <td>False</td>\n",
       "      <td>False</td>\n",
       "      <td>False</td>\n",
       "      <td>False</td>\n",
       "      <td>False</td>\n",
       "      <td>False</td>\n",
       "    </tr>\n",
       "    <tr>\n",
       "      <th>26</th>\n",
       "      <td>False</td>\n",
       "      <td>False</td>\n",
       "      <td>False</td>\n",
       "      <td>False</td>\n",
       "      <td>False</td>\n",
       "      <td>False</td>\n",
       "      <td>False</td>\n",
       "      <td>False</td>\n",
       "      <td>False</td>\n",
       "      <td>False</td>\n",
       "      <td>False</td>\n",
       "      <td>False</td>\n",
       "      <td>False</td>\n",
       "    </tr>\n",
       "    <tr>\n",
       "      <th>27</th>\n",
       "      <td>False</td>\n",
       "      <td>False</td>\n",
       "      <td>False</td>\n",
       "      <td>False</td>\n",
       "      <td>False</td>\n",
       "      <td>False</td>\n",
       "      <td>False</td>\n",
       "      <td>False</td>\n",
       "      <td>False</td>\n",
       "      <td>False</td>\n",
       "      <td>False</td>\n",
       "      <td>False</td>\n",
       "      <td>False</td>\n",
       "    </tr>\n",
       "    <tr>\n",
       "      <th>28</th>\n",
       "      <td>False</td>\n",
       "      <td>False</td>\n",
       "      <td>False</td>\n",
       "      <td>False</td>\n",
       "      <td>False</td>\n",
       "      <td>False</td>\n",
       "      <td>False</td>\n",
       "      <td>False</td>\n",
       "      <td>False</td>\n",
       "      <td>False</td>\n",
       "      <td>False</td>\n",
       "      <td>False</td>\n",
       "      <td>False</td>\n",
       "    </tr>\n",
       "    <tr>\n",
       "      <th>29</th>\n",
       "      <td>False</td>\n",
       "      <td>False</td>\n",
       "      <td>False</td>\n",
       "      <td>False</td>\n",
       "      <td>False</td>\n",
       "      <td>False</td>\n",
       "      <td>False</td>\n",
       "      <td>False</td>\n",
       "      <td>False</td>\n",
       "      <td>False</td>\n",
       "      <td>False</td>\n",
       "      <td>False</td>\n",
       "      <td>False</td>\n",
       "    </tr>\n",
       "    <tr>\n",
       "      <th>...</th>\n",
       "      <td>...</td>\n",
       "      <td>...</td>\n",
       "      <td>...</td>\n",
       "      <td>...</td>\n",
       "      <td>...</td>\n",
       "      <td>...</td>\n",
       "      <td>...</td>\n",
       "      <td>...</td>\n",
       "      <td>...</td>\n",
       "      <td>...</td>\n",
       "      <td>...</td>\n",
       "      <td>...</td>\n",
       "      <td>...</td>\n",
       "    </tr>\n",
       "    <tr>\n",
       "      <th>31948</th>\n",
       "      <td>False</td>\n",
       "      <td>False</td>\n",
       "      <td>False</td>\n",
       "      <td>False</td>\n",
       "      <td>False</td>\n",
       "      <td>False</td>\n",
       "      <td>False</td>\n",
       "      <td>False</td>\n",
       "      <td>False</td>\n",
       "      <td>False</td>\n",
       "      <td>False</td>\n",
       "      <td>False</td>\n",
       "      <td>False</td>\n",
       "    </tr>\n",
       "    <tr>\n",
       "      <th>31949</th>\n",
       "      <td>False</td>\n",
       "      <td>False</td>\n",
       "      <td>False</td>\n",
       "      <td>False</td>\n",
       "      <td>False</td>\n",
       "      <td>False</td>\n",
       "      <td>False</td>\n",
       "      <td>False</td>\n",
       "      <td>False</td>\n",
       "      <td>False</td>\n",
       "      <td>False</td>\n",
       "      <td>False</td>\n",
       "      <td>False</td>\n",
       "    </tr>\n",
       "    <tr>\n",
       "      <th>31950</th>\n",
       "      <td>False</td>\n",
       "      <td>False</td>\n",
       "      <td>False</td>\n",
       "      <td>False</td>\n",
       "      <td>False</td>\n",
       "      <td>False</td>\n",
       "      <td>False</td>\n",
       "      <td>False</td>\n",
       "      <td>False</td>\n",
       "      <td>False</td>\n",
       "      <td>False</td>\n",
       "      <td>False</td>\n",
       "      <td>False</td>\n",
       "    </tr>\n",
       "    <tr>\n",
       "      <th>31951</th>\n",
       "      <td>False</td>\n",
       "      <td>False</td>\n",
       "      <td>False</td>\n",
       "      <td>False</td>\n",
       "      <td>False</td>\n",
       "      <td>False</td>\n",
       "      <td>False</td>\n",
       "      <td>False</td>\n",
       "      <td>False</td>\n",
       "      <td>False</td>\n",
       "      <td>False</td>\n",
       "      <td>False</td>\n",
       "      <td>False</td>\n",
       "    </tr>\n",
       "    <tr>\n",
       "      <th>31952</th>\n",
       "      <td>False</td>\n",
       "      <td>False</td>\n",
       "      <td>False</td>\n",
       "      <td>False</td>\n",
       "      <td>False</td>\n",
       "      <td>False</td>\n",
       "      <td>False</td>\n",
       "      <td>False</td>\n",
       "      <td>False</td>\n",
       "      <td>False</td>\n",
       "      <td>False</td>\n",
       "      <td>False</td>\n",
       "      <td>False</td>\n",
       "    </tr>\n",
       "    <tr>\n",
       "      <th>31953</th>\n",
       "      <td>False</td>\n",
       "      <td>False</td>\n",
       "      <td>False</td>\n",
       "      <td>False</td>\n",
       "      <td>False</td>\n",
       "      <td>False</td>\n",
       "      <td>False</td>\n",
       "      <td>False</td>\n",
       "      <td>False</td>\n",
       "      <td>False</td>\n",
       "      <td>False</td>\n",
       "      <td>False</td>\n",
       "      <td>False</td>\n",
       "    </tr>\n",
       "    <tr>\n",
       "      <th>31954</th>\n",
       "      <td>False</td>\n",
       "      <td>False</td>\n",
       "      <td>False</td>\n",
       "      <td>False</td>\n",
       "      <td>False</td>\n",
       "      <td>False</td>\n",
       "      <td>False</td>\n",
       "      <td>False</td>\n",
       "      <td>False</td>\n",
       "      <td>False</td>\n",
       "      <td>False</td>\n",
       "      <td>False</td>\n",
       "      <td>False</td>\n",
       "    </tr>\n",
       "    <tr>\n",
       "      <th>31955</th>\n",
       "      <td>False</td>\n",
       "      <td>False</td>\n",
       "      <td>False</td>\n",
       "      <td>False</td>\n",
       "      <td>False</td>\n",
       "      <td>False</td>\n",
       "      <td>False</td>\n",
       "      <td>False</td>\n",
       "      <td>False</td>\n",
       "      <td>False</td>\n",
       "      <td>False</td>\n",
       "      <td>False</td>\n",
       "      <td>False</td>\n",
       "    </tr>\n",
       "    <tr>\n",
       "      <th>31956</th>\n",
       "      <td>False</td>\n",
       "      <td>False</td>\n",
       "      <td>False</td>\n",
       "      <td>False</td>\n",
       "      <td>False</td>\n",
       "      <td>False</td>\n",
       "      <td>False</td>\n",
       "      <td>False</td>\n",
       "      <td>False</td>\n",
       "      <td>False</td>\n",
       "      <td>False</td>\n",
       "      <td>False</td>\n",
       "      <td>False</td>\n",
       "    </tr>\n",
       "    <tr>\n",
       "      <th>31957</th>\n",
       "      <td>False</td>\n",
       "      <td>False</td>\n",
       "      <td>False</td>\n",
       "      <td>False</td>\n",
       "      <td>False</td>\n",
       "      <td>False</td>\n",
       "      <td>False</td>\n",
       "      <td>False</td>\n",
       "      <td>False</td>\n",
       "      <td>False</td>\n",
       "      <td>False</td>\n",
       "      <td>False</td>\n",
       "      <td>False</td>\n",
       "    </tr>\n",
       "    <tr>\n",
       "      <th>31958</th>\n",
       "      <td>False</td>\n",
       "      <td>False</td>\n",
       "      <td>False</td>\n",
       "      <td>False</td>\n",
       "      <td>False</td>\n",
       "      <td>False</td>\n",
       "      <td>False</td>\n",
       "      <td>False</td>\n",
       "      <td>False</td>\n",
       "      <td>False</td>\n",
       "      <td>False</td>\n",
       "      <td>False</td>\n",
       "      <td>False</td>\n",
       "    </tr>\n",
       "    <tr>\n",
       "      <th>31959</th>\n",
       "      <td>False</td>\n",
       "      <td>False</td>\n",
       "      <td>False</td>\n",
       "      <td>False</td>\n",
       "      <td>False</td>\n",
       "      <td>False</td>\n",
       "      <td>False</td>\n",
       "      <td>False</td>\n",
       "      <td>False</td>\n",
       "      <td>False</td>\n",
       "      <td>False</td>\n",
       "      <td>False</td>\n",
       "      <td>False</td>\n",
       "    </tr>\n",
       "    <tr>\n",
       "      <th>31960</th>\n",
       "      <td>False</td>\n",
       "      <td>False</td>\n",
       "      <td>False</td>\n",
       "      <td>False</td>\n",
       "      <td>False</td>\n",
       "      <td>False</td>\n",
       "      <td>False</td>\n",
       "      <td>False</td>\n",
       "      <td>False</td>\n",
       "      <td>False</td>\n",
       "      <td>False</td>\n",
       "      <td>False</td>\n",
       "      <td>False</td>\n",
       "    </tr>\n",
       "    <tr>\n",
       "      <th>31961</th>\n",
       "      <td>False</td>\n",
       "      <td>False</td>\n",
       "      <td>False</td>\n",
       "      <td>False</td>\n",
       "      <td>False</td>\n",
       "      <td>False</td>\n",
       "      <td>False</td>\n",
       "      <td>False</td>\n",
       "      <td>False</td>\n",
       "      <td>False</td>\n",
       "      <td>False</td>\n",
       "      <td>False</td>\n",
       "      <td>False</td>\n",
       "    </tr>\n",
       "    <tr>\n",
       "      <th>31962</th>\n",
       "      <td>False</td>\n",
       "      <td>False</td>\n",
       "      <td>False</td>\n",
       "      <td>False</td>\n",
       "      <td>False</td>\n",
       "      <td>False</td>\n",
       "      <td>False</td>\n",
       "      <td>False</td>\n",
       "      <td>False</td>\n",
       "      <td>False</td>\n",
       "      <td>False</td>\n",
       "      <td>False</td>\n",
       "      <td>False</td>\n",
       "    </tr>\n",
       "    <tr>\n",
       "      <th>31963</th>\n",
       "      <td>False</td>\n",
       "      <td>False</td>\n",
       "      <td>False</td>\n",
       "      <td>False</td>\n",
       "      <td>False</td>\n",
       "      <td>False</td>\n",
       "      <td>False</td>\n",
       "      <td>False</td>\n",
       "      <td>False</td>\n",
       "      <td>False</td>\n",
       "      <td>False</td>\n",
       "      <td>False</td>\n",
       "      <td>False</td>\n",
       "    </tr>\n",
       "    <tr>\n",
       "      <th>31964</th>\n",
       "      <td>False</td>\n",
       "      <td>False</td>\n",
       "      <td>False</td>\n",
       "      <td>False</td>\n",
       "      <td>False</td>\n",
       "      <td>False</td>\n",
       "      <td>False</td>\n",
       "      <td>False</td>\n",
       "      <td>False</td>\n",
       "      <td>False</td>\n",
       "      <td>False</td>\n",
       "      <td>False</td>\n",
       "      <td>False</td>\n",
       "    </tr>\n",
       "    <tr>\n",
       "      <th>31965</th>\n",
       "      <td>False</td>\n",
       "      <td>False</td>\n",
       "      <td>False</td>\n",
       "      <td>False</td>\n",
       "      <td>False</td>\n",
       "      <td>False</td>\n",
       "      <td>False</td>\n",
       "      <td>False</td>\n",
       "      <td>False</td>\n",
       "      <td>False</td>\n",
       "      <td>False</td>\n",
       "      <td>False</td>\n",
       "      <td>False</td>\n",
       "    </tr>\n",
       "    <tr>\n",
       "      <th>31966</th>\n",
       "      <td>False</td>\n",
       "      <td>False</td>\n",
       "      <td>False</td>\n",
       "      <td>False</td>\n",
       "      <td>False</td>\n",
       "      <td>False</td>\n",
       "      <td>False</td>\n",
       "      <td>False</td>\n",
       "      <td>False</td>\n",
       "      <td>False</td>\n",
       "      <td>False</td>\n",
       "      <td>False</td>\n",
       "      <td>False</td>\n",
       "    </tr>\n",
       "    <tr>\n",
       "      <th>31967</th>\n",
       "      <td>False</td>\n",
       "      <td>False</td>\n",
       "      <td>False</td>\n",
       "      <td>False</td>\n",
       "      <td>False</td>\n",
       "      <td>False</td>\n",
       "      <td>False</td>\n",
       "      <td>False</td>\n",
       "      <td>False</td>\n",
       "      <td>False</td>\n",
       "      <td>False</td>\n",
       "      <td>False</td>\n",
       "      <td>False</td>\n",
       "    </tr>\n",
       "    <tr>\n",
       "      <th>31968</th>\n",
       "      <td>False</td>\n",
       "      <td>False</td>\n",
       "      <td>False</td>\n",
       "      <td>False</td>\n",
       "      <td>False</td>\n",
       "      <td>False</td>\n",
       "      <td>False</td>\n",
       "      <td>False</td>\n",
       "      <td>False</td>\n",
       "      <td>False</td>\n",
       "      <td>False</td>\n",
       "      <td>False</td>\n",
       "      <td>False</td>\n",
       "    </tr>\n",
       "    <tr>\n",
       "      <th>31969</th>\n",
       "      <td>False</td>\n",
       "      <td>False</td>\n",
       "      <td>False</td>\n",
       "      <td>False</td>\n",
       "      <td>False</td>\n",
       "      <td>False</td>\n",
       "      <td>False</td>\n",
       "      <td>False</td>\n",
       "      <td>False</td>\n",
       "      <td>False</td>\n",
       "      <td>False</td>\n",
       "      <td>False</td>\n",
       "      <td>False</td>\n",
       "    </tr>\n",
       "    <tr>\n",
       "      <th>31970</th>\n",
       "      <td>False</td>\n",
       "      <td>False</td>\n",
       "      <td>False</td>\n",
       "      <td>False</td>\n",
       "      <td>False</td>\n",
       "      <td>False</td>\n",
       "      <td>False</td>\n",
       "      <td>False</td>\n",
       "      <td>False</td>\n",
       "      <td>False</td>\n",
       "      <td>False</td>\n",
       "      <td>False</td>\n",
       "      <td>False</td>\n",
       "    </tr>\n",
       "    <tr>\n",
       "      <th>31971</th>\n",
       "      <td>False</td>\n",
       "      <td>False</td>\n",
       "      <td>False</td>\n",
       "      <td>False</td>\n",
       "      <td>False</td>\n",
       "      <td>False</td>\n",
       "      <td>False</td>\n",
       "      <td>False</td>\n",
       "      <td>False</td>\n",
       "      <td>False</td>\n",
       "      <td>False</td>\n",
       "      <td>False</td>\n",
       "      <td>False</td>\n",
       "    </tr>\n",
       "    <tr>\n",
       "      <th>31972</th>\n",
       "      <td>False</td>\n",
       "      <td>False</td>\n",
       "      <td>False</td>\n",
       "      <td>False</td>\n",
       "      <td>False</td>\n",
       "      <td>False</td>\n",
       "      <td>False</td>\n",
       "      <td>False</td>\n",
       "      <td>False</td>\n",
       "      <td>False</td>\n",
       "      <td>False</td>\n",
       "      <td>False</td>\n",
       "      <td>False</td>\n",
       "    </tr>\n",
       "    <tr>\n",
       "      <th>31973</th>\n",
       "      <td>False</td>\n",
       "      <td>False</td>\n",
       "      <td>False</td>\n",
       "      <td>False</td>\n",
       "      <td>False</td>\n",
       "      <td>False</td>\n",
       "      <td>False</td>\n",
       "      <td>False</td>\n",
       "      <td>False</td>\n",
       "      <td>False</td>\n",
       "      <td>False</td>\n",
       "      <td>False</td>\n",
       "      <td>False</td>\n",
       "    </tr>\n",
       "    <tr>\n",
       "      <th>31974</th>\n",
       "      <td>False</td>\n",
       "      <td>False</td>\n",
       "      <td>False</td>\n",
       "      <td>False</td>\n",
       "      <td>False</td>\n",
       "      <td>False</td>\n",
       "      <td>False</td>\n",
       "      <td>False</td>\n",
       "      <td>False</td>\n",
       "      <td>False</td>\n",
       "      <td>False</td>\n",
       "      <td>False</td>\n",
       "      <td>False</td>\n",
       "    </tr>\n",
       "    <tr>\n",
       "      <th>31975</th>\n",
       "      <td>False</td>\n",
       "      <td>False</td>\n",
       "      <td>False</td>\n",
       "      <td>False</td>\n",
       "      <td>False</td>\n",
       "      <td>False</td>\n",
       "      <td>False</td>\n",
       "      <td>False</td>\n",
       "      <td>False</td>\n",
       "      <td>False</td>\n",
       "      <td>False</td>\n",
       "      <td>False</td>\n",
       "      <td>False</td>\n",
       "    </tr>\n",
       "    <tr>\n",
       "      <th>31976</th>\n",
       "      <td>False</td>\n",
       "      <td>False</td>\n",
       "      <td>False</td>\n",
       "      <td>False</td>\n",
       "      <td>False</td>\n",
       "      <td>False</td>\n",
       "      <td>False</td>\n",
       "      <td>False</td>\n",
       "      <td>False</td>\n",
       "      <td>False</td>\n",
       "      <td>False</td>\n",
       "      <td>False</td>\n",
       "      <td>False</td>\n",
       "    </tr>\n",
       "    <tr>\n",
       "      <th>31977</th>\n",
       "      <td>False</td>\n",
       "      <td>False</td>\n",
       "      <td>False</td>\n",
       "      <td>False</td>\n",
       "      <td>False</td>\n",
       "      <td>False</td>\n",
       "      <td>False</td>\n",
       "      <td>False</td>\n",
       "      <td>False</td>\n",
       "      <td>False</td>\n",
       "      <td>False</td>\n",
       "      <td>False</td>\n",
       "      <td>False</td>\n",
       "    </tr>\n",
       "  </tbody>\n",
       "</table>\n",
       "<p>31978 rows × 13 columns</p>\n",
       "</div>"
      ],
      "text/plain": [
       "         age  JobType  EdType  maritalstatus  occupation  relationship   race  \\\n",
       "0      False    False   False          False       False         False  False   \n",
       "1      False    False   False          False       False         False  False   \n",
       "2      False    False   False          False       False         False  False   \n",
       "3      False    False   False          False       False         False  False   \n",
       "4      False    False   False          False       False         False  False   \n",
       "5      False    False   False          False       False         False  False   \n",
       "6      False    False   False          False       False         False  False   \n",
       "7      False    False   False          False       False         False  False   \n",
       "8      False    False   False          False       False         False  False   \n",
       "9      False    False   False          False       False         False  False   \n",
       "10     False    False   False          False       False         False  False   \n",
       "11     False    False   False          False       False         False  False   \n",
       "12     False    False   False          False       False         False  False   \n",
       "13     False    False   False          False       False         False  False   \n",
       "14     False    False   False          False       False         False  False   \n",
       "15     False    False   False          False       False         False  False   \n",
       "16     False    False   False          False       False         False  False   \n",
       "17     False    False   False          False       False         False  False   \n",
       "18     False    False   False          False       False         False  False   \n",
       "19     False    False   False          False       False         False  False   \n",
       "20     False    False   False          False       False         False  False   \n",
       "21     False    False   False          False       False         False  False   \n",
       "22     False    False   False          False       False         False  False   \n",
       "23     False    False   False          False       False         False  False   \n",
       "24     False    False   False          False       False         False  False   \n",
       "25     False    False   False          False       False         False  False   \n",
       "26     False    False   False          False       False         False  False   \n",
       "27     False    False   False          False       False         False  False   \n",
       "28     False    False   False          False       False         False  False   \n",
       "29     False    False   False          False       False         False  False   \n",
       "...      ...      ...     ...            ...         ...           ...    ...   \n",
       "31948  False    False   False          False       False         False  False   \n",
       "31949  False    False   False          False       False         False  False   \n",
       "31950  False    False   False          False       False         False  False   \n",
       "31951  False    False   False          False       False         False  False   \n",
       "31952  False    False   False          False       False         False  False   \n",
       "31953  False    False   False          False       False         False  False   \n",
       "31954  False    False   False          False       False         False  False   \n",
       "31955  False    False   False          False       False         False  False   \n",
       "31956  False    False   False          False       False         False  False   \n",
       "31957  False    False   False          False       False         False  False   \n",
       "31958  False    False   False          False       False         False  False   \n",
       "31959  False    False   False          False       False         False  False   \n",
       "31960  False    False   False          False       False         False  False   \n",
       "31961  False    False   False          False       False         False  False   \n",
       "31962  False    False   False          False       False         False  False   \n",
       "31963  False    False   False          False       False         False  False   \n",
       "31964  False    False   False          False       False         False  False   \n",
       "31965  False    False   False          False       False         False  False   \n",
       "31966  False    False   False          False       False         False  False   \n",
       "31967  False    False   False          False       False         False  False   \n",
       "31968  False    False   False          False       False         False  False   \n",
       "31969  False    False   False          False       False         False  False   \n",
       "31970  False    False   False          False       False         False  False   \n",
       "31971  False    False   False          False       False         False  False   \n",
       "31972  False    False   False          False       False         False  False   \n",
       "31973  False    False   False          False       False         False  False   \n",
       "31974  False    False   False          False       False         False  False   \n",
       "31975  False    False   False          False       False         False  False   \n",
       "31976  False    False   False          False       False         False  False   \n",
       "31977  False    False   False          False       False         False  False   \n",
       "\n",
       "       gender  capitalgain  capitalloss  hoursperweek  nativecountry  SalStat  \n",
       "0       False        False        False         False          False    False  \n",
       "1       False        False        False         False          False    False  \n",
       "2       False        False        False         False          False    False  \n",
       "3       False        False        False         False          False    False  \n",
       "4       False        False        False         False          False    False  \n",
       "5       False        False        False         False          False    False  \n",
       "6       False        False        False         False          False    False  \n",
       "7       False        False        False         False          False    False  \n",
       "8       False        False        False         False          False    False  \n",
       "9       False        False        False         False          False    False  \n",
       "10      False        False        False         False          False    False  \n",
       "11      False        False        False         False          False    False  \n",
       "12      False        False        False         False          False    False  \n",
       "13      False        False        False         False          False    False  \n",
       "14      False        False        False         False          False    False  \n",
       "15      False        False        False         False          False    False  \n",
       "16      False        False        False         False          False    False  \n",
       "17      False        False        False         False          False    False  \n",
       "18      False        False        False         False          False    False  \n",
       "19      False        False        False         False          False    False  \n",
       "20      False        False        False         False          False    False  \n",
       "21      False        False        False         False          False    False  \n",
       "22      False        False        False         False          False    False  \n",
       "23      False        False        False         False          False    False  \n",
       "24      False        False        False         False          False    False  \n",
       "25      False        False        False         False          False    False  \n",
       "26      False        False        False         False          False    False  \n",
       "27      False        False        False         False          False    False  \n",
       "28      False        False        False         False          False    False  \n",
       "29      False        False        False         False          False    False  \n",
       "...       ...          ...          ...           ...            ...      ...  \n",
       "31948   False        False        False         False          False    False  \n",
       "31949   False        False        False         False          False    False  \n",
       "31950   False        False        False         False          False    False  \n",
       "31951   False        False        False         False          False    False  \n",
       "31952   False        False        False         False          False    False  \n",
       "31953   False        False        False         False          False    False  \n",
       "31954   False        False        False         False          False    False  \n",
       "31955   False        False        False         False          False    False  \n",
       "31956   False        False        False         False          False    False  \n",
       "31957   False        False        False         False          False    False  \n",
       "31958   False        False        False         False          False    False  \n",
       "31959   False        False        False         False          False    False  \n",
       "31960   False        False        False         False          False    False  \n",
       "31961   False        False        False         False          False    False  \n",
       "31962   False        False        False         False          False    False  \n",
       "31963   False        False        False         False          False    False  \n",
       "31964   False        False        False         False          False    False  \n",
       "31965   False        False        False         False          False    False  \n",
       "31966   False        False        False         False          False    False  \n",
       "31967   False        False        False         False          False    False  \n",
       "31968   False        False        False         False          False    False  \n",
       "31969   False        False        False         False          False    False  \n",
       "31970   False        False        False         False          False    False  \n",
       "31971   False        False        False         False          False    False  \n",
       "31972   False        False        False         False          False    False  \n",
       "31973   False        False        False         False          False    False  \n",
       "31974   False        False        False         False          False    False  \n",
       "31975   False        False        False         False          False    False  \n",
       "31976   False        False        False         False          False    False  \n",
       "31977   False        False        False         False          False    False  \n",
       "\n",
       "[31978 rows x 13 columns]"
      ]
     },
     "execution_count": 5,
     "metadata": {},
     "output_type": "execute_result"
    }
   ],
   "source": [
    "# Check for missing values\n",
    "data.isnull() \n",
    "# isnull function returns the boolean output, True indicates missing data, \n",
    "# False indicates NO missing data, in a particular cell.\n"
   ]
  },
  {
   "cell_type": "code",
   "execution_count": 4,
   "metadata": {},
   "outputs": [
    {
     "name": "stdout",
     "output_type": "stream",
     "text": [
      "Data columns with null values:\n",
      " age              0\n",
      "JobType          0\n",
      "EdType           0\n",
      "maritalstatus    0\n",
      "occupation       0\n",
      "relationship     0\n",
      "race             0\n",
      "gender           0\n",
      "capitalgain      0\n",
      "capitalloss      0\n",
      "hoursperweek     0\n",
      "nativecountry    0\n",
      "SalStat          0\n",
      "dtype: int64\n"
     ]
    }
   ],
   "source": [
    "print('Data columns with null values:\\n', data.isnull().sum())\n",
    "# no missing values \n",
    "# This command is used to see sum of missing values in each column.\n",
    "# We use this because it is difficult to skim and find missing values using isnull command."
   ]
  },
  {
   "cell_type": "markdown",
   "metadata": {},
   "source": [
    "* Initial Observation - no missing values \n",
    "* This command is used to see sum of missing values in each column.\n",
    "* We use this because it is difficult to skim and find missing values using isnull command."
   ]
  },
  {
   "cell_type": "markdown",
   "metadata": {},
   "source": [
    "### Here we observe that there are no missing values in our data. Which implies that our data is quite neat. Later we will see that there are missing values. "
   ]
  },
  {
   "cell_type": "code",
   "execution_count": 51,
   "metadata": {},
   "outputs": [
    {
     "name": "stdout",
     "output_type": "stream",
     "text": [
      "                age   capitalgain   capitalloss  hoursperweek\n",
      "count  31978.000000  31978.000000  31978.000000  31978.000000\n",
      "mean      38.579023   1064.360623     86.739352     40.417850\n",
      "std       13.662085   7298.596271    401.594301     12.345285\n",
      "min       17.000000      0.000000      0.000000      1.000000\n",
      "25%       28.000000      0.000000      0.000000     40.000000\n",
      "50%       37.000000      0.000000      0.000000     40.000000\n",
      "75%       48.000000      0.000000      0.000000     45.000000\n",
      "max       90.000000  99999.000000   4356.000000     99.000000\n"
     ]
    }
   ],
   "source": [
    "# summary of numerical variables\n",
    "summary_num = data.describe()\n",
    "print(summary_num)\n",
    "# This function gives us a descriptive statistics about our data."
   ]
  },
  {
   "cell_type": "code",
   "execution_count": 43,
   "metadata": {},
   "outputs": [
    {
     "name": "stdout",
     "output_type": "stream",
     "text": [
      "         JobType    EdType        maritalstatus       occupation relationship  \\\n",
      "count      31978     31978                31978            31978        31978   \n",
      "unique         9        16                    7               15            6   \n",
      "top      Private   HS-grad   Married-civ-spouse   Prof-specialty      Husband   \n",
      "freq       22286     10368                14692             4038        12947   \n",
      "\n",
      "          race gender   nativecountry                        SalStat  \n",
      "count    31978  31978           31978                          31978  \n",
      "unique       5      2              41                              2  \n",
      "top      White   Male   United-States   less than or equal to 50,000  \n",
      "freq     27430  21370           29170                          24283  \n"
     ]
    }
   ],
   "source": [
    "# summary of categorical variables\n",
    "summary_cate = data.describe(include = [\"O\"]) # including object datatype as well.\n",
    "print(summary_cate)\n",
    "\n",
    "\n",
    "# This gives us 4 measures, which are :-\n",
    "# count - count the total data input in that column\n",
    "# unique - counts the total number of unique categories in a particular column\n",
    "# top - It gives us the most frequently occuring catgory in a particular column \n",
    "# freq - returns the frequency of top category (Most frequently occuring category)"
   ]
  },
  {
   "cell_type": "code",
   "execution_count": 7,
   "metadata": {},
   "outputs": [
    {
     "data": {
      "text/plain": [
       " Private             22286\n",
       " Self-emp-not-inc     2499\n",
       " Local-gov            2067\n",
       " ?                    1809\n",
       " State-gov            1279\n",
       " Self-emp-inc         1074\n",
       " Federal-gov           943\n",
       " Without-pay            14\n",
       " Never-worked            7\n",
       "Name: JobType, dtype: int64"
      ]
     },
     "execution_count": 7,
     "metadata": {},
     "output_type": "execute_result"
    }
   ],
   "source": [
    "# Frequency of each characters\n",
    "data['JobType'].value_counts()\n",
    "# Gives the frequency of each category under the variable JobType. \n",
    "# ? mark indicates the NaN value, by default python reads Blank cell as NaN.\n"
   ]
  },
  {
   "cell_type": "code",
   "execution_count": 8,
   "metadata": {},
   "outputs": [
    {
     "data": {
      "text/plain": [
       " Prof-specialty       4038\n",
       " Craft-repair         4030\n",
       " Exec-managerial      3992\n",
       " Adm-clerical         3721\n",
       " Sales                3584\n",
       " Other-service        3212\n",
       " Machine-op-inspct    1966\n",
       " ?                    1816\n",
       " Transport-moving     1572\n",
       " Handlers-cleaners    1350\n",
       " Farming-fishing       989\n",
       " Tech-support          912\n",
       " Protective-serv       644\n",
       " Priv-house-serv       143\n",
       " Armed-Forces            9\n",
       "Name: occupation, dtype: int64"
      ]
     },
     "execution_count": 8,
     "metadata": {},
     "output_type": "execute_result"
    }
   ],
   "source": [
    "data['occupation'].value_counts()"
   ]
  },
  {
   "cell_type": "code",
   "execution_count": 9,
   "metadata": {},
   "outputs": [
    {
     "name": "stdout",
     "output_type": "stream",
     "text": [
      "[' ?' ' Federal-gov' ' Local-gov' ' Never-worked' ' Private'\n",
      " ' Self-emp-inc' ' Self-emp-not-inc' ' State-gov' ' Without-pay']\n",
      "[' ?' ' Adm-clerical' ' Armed-Forces' ' Craft-repair' ' Exec-managerial'\n",
      " ' Farming-fishing' ' Handlers-cleaners' ' Machine-op-inspct'\n",
      " ' Other-service' ' Priv-house-serv' ' Prof-specialty' ' Protective-serv'\n",
      " ' Sales' ' Tech-support' ' Transport-moving']\n"
     ]
    }
   ],
   "source": [
    "# checking for unique classes\n",
    "print(np.unique(data['JobType']))\n",
    "print(np.unique(data['occupation']))\n",
    "# There exists ' ?' instead of nan"
   ]
  },
  {
   "cell_type": "markdown",
   "metadata": {},
   "source": [
    "### We will go back and read the data by including \"na_values['?']\" to consider ' ?' as nan value."
   ]
  },
  {
   "cell_type": "code",
   "execution_count": 4,
   "metadata": {
    "collapsed": true
   },
   "outputs": [],
   "source": [
    "data = pd.read_csv('income.csv', na_values=[\" ?\"]) \n",
    "# We will consider this special character \"?\" as NaN value."
   ]
  },
  {
   "cell_type": "markdown",
   "metadata": {},
   "source": [
    "# Data pre-processing"
   ]
  },
  {
   "cell_type": "code",
   "execution_count": 5,
   "metadata": {},
   "outputs": [
    {
     "data": {
      "text/plain": [
       "age                 0\n",
       "JobType          1809\n",
       "EdType              0\n",
       "maritalstatus       0\n",
       "occupation       1816\n",
       "relationship        0\n",
       "race                0\n",
       "gender              0\n",
       "capitalgain         0\n",
       "capitalloss         0\n",
       "hoursperweek        0\n",
       "nativecountry       0\n",
       "SalStat             0\n",
       "dtype: int64"
      ]
     },
     "execution_count": 5,
     "metadata": {},
     "output_type": "execute_result"
    }
   ],
   "source": [
    "data.isnull().sum()\n",
    "# Here we can see that only 'JobType' and 'occupation' variables have missing data."
   ]
  },
  {
   "cell_type": "code",
   "execution_count": 12,
   "metadata": {},
   "outputs": [
    {
     "name": "stdout",
     "output_type": "stream",
     "text": [
      "       age JobType         EdType           maritalstatus occupation  \\\n",
      "8       17     NaN           11th           Never-married        NaN   \n",
      "17      32     NaN   Some-college      Married-civ-spouse        NaN   \n",
      "29      22     NaN   Some-college           Never-married        NaN   \n",
      "42      52     NaN           12th           Never-married        NaN   \n",
      "44      63     NaN        1st-4th      Married-civ-spouse        NaN   \n",
      "57      72     NaN        HS-grad      Married-civ-spouse        NaN   \n",
      "69      53     NaN        5th-6th                 Widowed        NaN   \n",
      "73      57     NaN      Assoc-voc                 Widowed        NaN   \n",
      "75      20     NaN   Some-college           Never-married        NaN   \n",
      "76      21     NaN   Some-college           Never-married        NaN   \n",
      "97      34     NaN        HS-grad           Never-married        NaN   \n",
      "133     18     NaN           12th           Never-married        NaN   \n",
      "137     65     NaN   Some-college      Married-civ-spouse        NaN   \n",
      "147     42     NaN        HS-grad      Married-civ-spouse        NaN   \n",
      "148     55     NaN        HS-grad      Married-civ-spouse        NaN   \n",
      "153     23     NaN   Some-college           Never-married        NaN   \n",
      "205     58     NaN        HS-grad      Married-civ-spouse        NaN   \n",
      "213     70     NaN            9th                 Widowed        NaN   \n",
      "225     20     NaN           11th   Married-spouse-absent        NaN   \n",
      "228     17     NaN           11th           Never-married        NaN   \n",
      "243     66     NaN        7th-8th           Never-married        NaN   \n",
      "252     25     NaN     Assoc-acdm           Never-married        NaN   \n",
      "288     45     NaN   Some-college      Married-civ-spouse        NaN   \n",
      "340     59     NaN        HS-grad      Married-civ-spouse        NaN   \n",
      "341     21     NaN        HS-grad           Never-married        NaN   \n",
      "344     18     NaN   Some-college           Never-married        NaN   \n",
      "358     50     NaN        Masters   Married-spouse-absent        NaN   \n",
      "363     22     NaN   Some-college           Never-married        NaN   \n",
      "382     42     NaN           11th      Married-civ-spouse        NaN   \n",
      "386     72     NaN           11th                 Widowed        NaN   \n",
      "...    ...     ...            ...                     ...        ...   \n",
      "31478   60     NaN            9th                Divorced        NaN   \n",
      "31481   82     NaN        HS-grad           Never-married        NaN   \n",
      "31515   35     NaN      Bachelors      Married-civ-spouse        NaN   \n",
      "31516   30     NaN      Bachelors           Never-married        NaN   \n",
      "31524   71     NaN      Doctorate      Married-civ-spouse        NaN   \n",
      "31526   41     NaN        HS-grad               Separated        NaN   \n",
      "31527   72     NaN        HS-grad      Married-civ-spouse        NaN   \n",
      "31572   54     NaN   Some-college      Married-civ-spouse        NaN   \n",
      "31611   25     NaN   Some-college           Never-married        NaN   \n",
      "31619   67     NaN           10th      Married-civ-spouse        NaN   \n",
      "31647   17     NaN           10th           Never-married        NaN   \n",
      "31669   35     NaN        HS-grad      Married-civ-spouse        NaN   \n",
      "31690   43     NaN   Some-college                Divorced        NaN   \n",
      "31695   52     NaN        HS-grad                Divorced        NaN   \n",
      "31701   68     NaN        1st-4th                Divorced        NaN   \n",
      "31728   53     NaN      Bachelors                Divorced        NaN   \n",
      "31742   19     NaN        HS-grad           Never-married        NaN   \n",
      "31762   64     NaN        1st-4th                Divorced        NaN   \n",
      "31767   60     NaN           10th                Divorced        NaN   \n",
      "31784   20     NaN   Some-college           Never-married        NaN   \n",
      "31805   19     NaN   Some-college           Never-married        NaN   \n",
      "31850   19     NaN   Some-college           Never-married        NaN   \n",
      "31864   23     NaN      Assoc-voc           Never-married        NaN   \n",
      "31884   67     NaN           11th      Married-civ-spouse        NaN   \n",
      "31885   30     NaN      Assoc-voc                Divorced        NaN   \n",
      "31892   59     NaN      Bachelors      Married-civ-spouse        NaN   \n",
      "31934   20     NaN        HS-grad           Never-married        NaN   \n",
      "31945   28     NaN   Some-college      Married-civ-spouse        NaN   \n",
      "31967   80     NaN        HS-grad                 Widowed        NaN   \n",
      "31968   17     NaN           11th           Never-married        NaN   \n",
      "\n",
      "          relationship                 race   gender  capitalgain  \\\n",
      "8            Own-child                White   Female            0   \n",
      "17             Husband                White     Male            0   \n",
      "29           Own-child                White     Male            0   \n",
      "42      Other-relative                Black     Male          594   \n",
      "44             Husband                White     Male            0   \n",
      "57             Husband                White     Male            0   \n",
      "69           Unmarried                Black   Female            0   \n",
      "73           Unmarried                White   Female            0   \n",
      "75           Own-child                White     Male            0   \n",
      "76           Unmarried                White   Female            0   \n",
      "97           Unmarried                Black   Female            0   \n",
      "133          Own-child                White     Male            0   \n",
      "137            Husband                White     Male            0   \n",
      "147            Husband                White     Male            0   \n",
      "148               Wife   Asian-Pac-Islander   Female            0   \n",
      "153          Unmarried   Amer-Indian-Eskimo   Female            0   \n",
      "205            Husband                White     Male            0   \n",
      "213          Unmarried                White   Female         1111   \n",
      "225          Own-child   Asian-Pac-Islander   Female            0   \n",
      "228          Own-child                White   Female            0   \n",
      "243      Not-in-family                White     Male            0   \n",
      "252     Other-relative                White     Male            0   \n",
      "288               Wife                Black   Female            0   \n",
      "340            Husband                White     Male            0   \n",
      "341      Not-in-family                White   Female         1055   \n",
      "344          Own-child                White     Male            0   \n",
      "358     Other-relative                White     Male            0   \n",
      "363          Own-child                Black     Male            0   \n",
      "382            Husband                White     Male            0   \n",
      "386      Not-in-family                White   Female            0   \n",
      "...                ...                  ...      ...          ...   \n",
      "31478    Not-in-family                Black     Male            0   \n",
      "31481    Not-in-family                White     Male            0   \n",
      "31515             Wife                White   Female            0   \n",
      "31516    Not-in-family   Asian-Pac-Islander   Female            0   \n",
      "31524          Husband                White     Male            0   \n",
      "31526    Not-in-family                Black   Female            0   \n",
      "31527          Husband                White     Male            0   \n",
      "31572          Husband   Asian-Pac-Islander     Male            0   \n",
      "31611        Own-child                White     Male            0   \n",
      "31619          Husband                White     Male            0   \n",
      "31647        Own-child                White   Female        34095   \n",
      "31669          Husband                White     Male            0   \n",
      "31690    Not-in-family                White   Female            0   \n",
      "31695    Not-in-family                White     Male            0   \n",
      "31701    Not-in-family                White   Female            0   \n",
      "31728    Not-in-family                White   Female            0   \n",
      "31742        Own-child                White     Male            0   \n",
      "31762    Not-in-family                White     Male            0   \n",
      "31767    Not-in-family   Amer-Indian-Eskimo   Female            0   \n",
      "31784        Own-child                White     Male            0   \n",
      "31805        Own-child                White     Male            0   \n",
      "31850        Own-child                Black   Female            0   \n",
      "31864        Own-child                Black   Female            0   \n",
      "31884          Husband                White     Male            0   \n",
      "31885        Unmarried                White   Female            0   \n",
      "31892          Husband                White     Male            0   \n",
      "31934   Other-relative                White   Female            0   \n",
      "31945             Wife                White   Female            0   \n",
      "31967    Not-in-family                White     Male            0   \n",
      "31968        Own-child                White     Male            0   \n",
      "\n",
      "       capitalloss  hoursperweek   nativecountry  \\\n",
      "8                0             5   United-States   \n",
      "17               0            40   United-States   \n",
      "29               0            40   United-States   \n",
      "42               0            40   United-States   \n",
      "44               0            35   United-States   \n",
      "57               0            20   United-States   \n",
      "69               0            30   United-States   \n",
      "73               0            38   United-States   \n",
      "75               0            24   United-States   \n",
      "76               0            35   United-States   \n",
      "97               0            40   United-States   \n",
      "133              0            25   United-States   \n",
      "137              0            30   United-States   \n",
      "147              0            40   United-States   \n",
      "148              0            40   United-States   \n",
      "153              0            25   United-States   \n",
      "205              0            50   United-States   \n",
      "213              0            15   United-States   \n",
      "225           1762            40           South   \n",
      "228              0            20   United-States   \n",
      "243              0             4   United-States   \n",
      "252              0            45   United-States   \n",
      "288              0            40   United-States   \n",
      "340              0            16   United-States   \n",
      "341              0            40   United-States   \n",
      "344              0            33   United-States   \n",
      "358              0            40   United-States   \n",
      "363              0            40   United-States   \n",
      "382              0            15   United-States   \n",
      "386              0            24   United-States   \n",
      "...            ...           ...             ...   \n",
      "31478            0            35   United-States   \n",
      "31481            0             3   United-States   \n",
      "31515            0            55   United-States   \n",
      "31516            0            99   United-States   \n",
      "31524            0            10   United-States   \n",
      "31526            0            32   United-States   \n",
      "31527            0            25   United-States   \n",
      "31572            0            60           South   \n",
      "31611            0            40   United-States   \n",
      "31619            0             2   United-States   \n",
      "31647            0            32   United-States   \n",
      "31669            0            40   United-States   \n",
      "31690            0            40   United-States   \n",
      "31695            0            45   United-States   \n",
      "31701            0            20   United-States   \n",
      "31728            0            50   United-States   \n",
      "31742            0            40           Italy   \n",
      "31762            0            40   United-States   \n",
      "31767            0            10   United-States   \n",
      "31784            0            20   United-States   \n",
      "31805            0            24          Canada   \n",
      "31850            0            25   United-States   \n",
      "31864            0            15   United-States   \n",
      "31884            0             8   United-States   \n",
      "31885            0            40   United-States   \n",
      "31892            0            40   United-States   \n",
      "31934            0            35   United-States   \n",
      "31945         1887            40   United-States   \n",
      "31967            0            24   United-States   \n",
      "31968            0            40   United-States   \n",
      "\n",
      "                             SalStat  \n",
      "8       less than or equal to 50,000  \n",
      "17      less than or equal to 50,000  \n",
      "29      less than or equal to 50,000  \n",
      "42      less than or equal to 50,000  \n",
      "44      less than or equal to 50,000  \n",
      "57      less than or equal to 50,000  \n",
      "69      less than or equal to 50,000  \n",
      "73      less than or equal to 50,000  \n",
      "75      less than or equal to 50,000  \n",
      "76      less than or equal to 50,000  \n",
      "97      less than or equal to 50,000  \n",
      "133     less than or equal to 50,000  \n",
      "137              greater than 50,000  \n",
      "147     less than or equal to 50,000  \n",
      "148     less than or equal to 50,000  \n",
      "153     less than or equal to 50,000  \n",
      "205     less than or equal to 50,000  \n",
      "213     less than or equal to 50,000  \n",
      "225     less than or equal to 50,000  \n",
      "228     less than or equal to 50,000  \n",
      "243     less than or equal to 50,000  \n",
      "252     less than or equal to 50,000  \n",
      "288     less than or equal to 50,000  \n",
      "340     less than or equal to 50,000  \n",
      "341     less than or equal to 50,000  \n",
      "344     less than or equal to 50,000  \n",
      "358     less than or equal to 50,000  \n",
      "363     less than or equal to 50,000  \n",
      "382     less than or equal to 50,000  \n",
      "386     less than or equal to 50,000  \n",
      "...                              ...  \n",
      "31478   less than or equal to 50,000  \n",
      "31481   less than or equal to 50,000  \n",
      "31515            greater than 50,000  \n",
      "31516   less than or equal to 50,000  \n",
      "31524            greater than 50,000  \n",
      "31526   less than or equal to 50,000  \n",
      "31527   less than or equal to 50,000  \n",
      "31572            greater than 50,000  \n",
      "31611   less than or equal to 50,000  \n",
      "31619   less than or equal to 50,000  \n",
      "31647   less than or equal to 50,000  \n",
      "31669   less than or equal to 50,000  \n",
      "31690   less than or equal to 50,000  \n",
      "31695            greater than 50,000  \n",
      "31701   less than or equal to 50,000  \n",
      "31728   less than or equal to 50,000  \n",
      "31742   less than or equal to 50,000  \n",
      "31762   less than or equal to 50,000  \n",
      "31767   less than or equal to 50,000  \n",
      "31784   less than or equal to 50,000  \n",
      "31805   less than or equal to 50,000  \n",
      "31850   less than or equal to 50,000  \n",
      "31864   less than or equal to 50,000  \n",
      "31884   less than or equal to 50,000  \n",
      "31885   less than or equal to 50,000  \n",
      "31892            greater than 50,000  \n",
      "31934   less than or equal to 50,000  \n",
      "31945            greater than 50,000  \n",
      "31967   less than or equal to 50,000  \n",
      "31968   less than or equal to 50,000  \n",
      "\n",
      "[1816 rows x 13 columns]\n"
     ]
    }
   ],
   "source": [
    "missing = data[data.isnull().any(axis=1)]\n",
    "# axis = 1 => to consider at least one column value is missing\n",
    "missing.shape\n",
    "print(missing)"
   ]
  },
  {
   "cell_type": "markdown",
   "metadata": {},
   "source": [
    "### Here we noticed that whenever JobType is nan, the occupation is also NaN. Also, there is a category in 'JobType' called 'Never-worked', and whenever this category occurs the occupation corresponds to NaN value."
   ]
  },
  {
   "cell_type": "markdown",
   "metadata": {},
   "source": [
    " Points to note:\n",
    "1. Missing values in Jobtype = 1809\n",
    "2. Missing values in Occupation = 1816\n",
    "3. There are 1809 rows where two specific coulmns\n",
    "   i.e. occupation & JobType have missing values\n",
    "4. (1816-1809) = 7 => You still have occupation unfilled for these 7 rows. \n",
    "   Because, jobtype is Never worked"
   ]
  },
  {
   "cell_type": "code",
   "execution_count": 6,
   "metadata": {},
   "outputs": [
    {
     "data": {
      "text/plain": [
       "(30162, 13)"
      ]
     },
     "execution_count": 6,
     "metadata": {},
     "output_type": "execute_result"
    }
   ],
   "source": [
    "data2 = data.dropna(axis=0) \n",
    "# by above command we are dropping all the rows which have missing values.\n",
    "data2.shape"
   ]
  },
  {
   "cell_type": "markdown",
   "metadata": {},
   "source": [
    "### Since we don't have any concrete idea to find the mechanism that goes behind to produce the missing values, we remove all such rows which contains missing values (1816 rows)."
   ]
  },
  {
   "cell_type": "code",
   "execution_count": 14,
   "metadata": {},
   "outputs": [
    {
     "name": "stdout",
     "output_type": "stream",
     "text": [
      "                   age  capitalgain  capitalloss  hoursperweek\n",
      "age           1.000000     0.080154     0.060165      0.101599\n",
      "capitalgain   0.080154     1.000000    -0.032229      0.080432\n",
      "capitalloss   0.060165    -0.032229     1.000000      0.052417\n",
      "hoursperweek  0.101599     0.080432     0.052417      1.000000\n"
     ]
    }
   ],
   "source": [
    "# Relationship between independent variables\n",
    "correlation = data2.corr()\n",
    "print(correlation)\n",
    "# Correlation close to 0 implies very low correlation. \n",
    "# Correlation close to 1 implies very high correlation. "
   ]
  },
  {
   "cell_type": "markdown",
   "metadata": {},
   "source": [
    "### Here, we can see that correlation values are close to zero, which means that none of the variables are correlated to each other."
   ]
  },
  {
   "cell_type": "markdown",
   "metadata": {},
   "source": [
    "# Cross tables & Data Visualization "
   ]
  },
  {
   "cell_type": "code",
   "execution_count": 34,
   "metadata": {},
   "outputs": [
    {
     "data": {
      "text/plain": [
       "Index(['age', 'JobType', 'EdType', 'maritalstatus', 'occupation',\n",
       "       'relationship', 'race', 'gender', 'capitalgain', 'capitalloss',\n",
       "       'hoursperweek', 'nativecountry', 'SalStat'],\n",
       "      dtype='object')"
      ]
     },
     "execution_count": 34,
     "metadata": {},
     "output_type": "execute_result"
    }
   ],
   "source": [
    "# Extracting the column names\n",
    "data2.columns"
   ]
  },
  {
   "cell_type": "code",
   "execution_count": 42,
   "metadata": {},
   "outputs": [
    {
     "name": "stdout",
     "output_type": "stream",
     "text": [
      "col_0       count\n",
      "gender           \n",
      " Female  0.324315\n",
      " Male    0.675685\n"
     ]
    }
   ],
   "source": [
    "# gender proportion table:\n",
    "\n",
    "gender = pd.crosstab(index    = data2[\"gender\"],\n",
    "                     columns  = 'count',\n",
    "                     normalize = True)\n",
    "print(gender)"
   ]
  },
  {
   "cell_type": "markdown",
   "metadata": {},
   "source": [
    "### This gives us an idea that we have roughly 67% male and 33% female gender."
   ]
  },
  {
   "cell_type": "code",
   "execution_count": 46,
   "metadata": {},
   "outputs": [
    {
     "name": "stdout",
     "output_type": "stream",
     "text": [
      "SalStat   greater than 50,000   less than or equal to 50,000\n",
      "gender                                                      \n",
      " Female              0.113678                       0.886322\n",
      " Male                0.313837                       0.686163\n",
      "All                  0.248922                       0.751078\n"
     ]
    }
   ],
   "source": [
    "# Gender vs Salary status:\n",
    "\n",
    "gender_salstat = pd.crosstab(index     = data2[\"gender\"],\n",
    "                             columns   = data2['SalStat'],\n",
    "                             margins   = True,\n",
    "                             normalize = 'index') # include row and column totals\n",
    "print(gender_salstat)\n",
    "# by setting normalize = 'index' we get sum of columns in a row to be 1"
   ]
  },
  {
   "cell_type": "markdown",
   "metadata": {},
   "source": [
    "### This implies that men are more likely to earn more than 50,000 as compared to women."
   ]
  },
  {
   "cell_type": "code",
   "execution_count": 7,
   "metadata": {
    "scrolled": false
   },
   "outputs": [
    {
     "data": {
      "image/png": "[encoded data removed]",
      "text/plain": [
       "<matplotlib.figure.Figure at 0x1044c95c0>"
      ]
     },
     "metadata": {},
     "output_type": "display_data"
    }
   ],
   "source": [
    "# Frequency distribution of 'Salary status'\n",
    "\n",
    "SalStat = sns.countplot(data2['SalStat'])\n",
    "plt.show()"
   ]
  },
  {
   "cell_type": "markdown",
   "metadata": {},
   "source": [
    "### 75 % of people's salary status is <= 50,000 & 25% of people's salary status is > 50,000"
   ]
  },
  {
   "cell_type": "code",
   "execution_count": 48,
   "metadata": {},
   "outputs": [
    {
     "data": {
      "image/png": "[encoded data removed]",
      "text/plain": [
       "<matplotlib.figure.Figure at 0x1a0e2967b8>"
      ]
     },
     "metadata": {},
     "output_type": "display_data"
    }
   ],
   "source": [
    "##################### HISTOGRAM OF AGE ###########################\n",
    "\n",
    "sns.distplot(data2['age'], bins=10, kde=False)\n",
    "plt.show()\n",
    "\n",
    "# By putting kde = False, we have frequency in the y-axis.\n",
    "# People with age 20-45 are high in frequency"
   ]
  },
  {
   "cell_type": "markdown",
   "metadata": {},
   "source": [
    "### People with age 20-45 are high in frequency"
   ]
  },
  {
   "cell_type": "code",
   "execution_count": 50,
   "metadata": {},
   "outputs": [
    {
     "data": {
      "image/png": "[encoded data removed]",
      "text/plain": [
       "<matplotlib.figure.Figure at 0x1a0e26de48>"
      ]
     },
     "metadata": {},
     "output_type": "display_data"
    }
   ],
   "source": [
    "##################### Box Plot - Age vs Salary status  #################\n",
    "sns.boxplot('SalStat', 'age', data=data2)\n",
    "data2.groupby('SalStat')['age'].median()\n",
    "plt.show()"
   ]
  },
  {
   "cell_type": "markdown",
   "metadata": {},
   "source": [
    "### People with 35 - 50 age are more likely to earn > 500000 dollars\n",
    "### People with 25-35 age are more likely to earn <= 50000 dollars "
   ]
  },
  {
   "cell_type": "code",
   "execution_count": 54,
   "metadata": {},
   "outputs": [
    {
     "name": "stdout",
     "output_type": "stream",
     "text": [
      "SalStat             greater than 50,000   less than or equal to 50,000\n",
      "JobType                                                               \n",
      " Federal-gov                   0.387063                       0.612937\n",
      " Local-gov                     0.294630                       0.705370\n",
      " Private                       0.218792                       0.781208\n",
      " Self-emp-inc                  0.558659                       0.441341\n",
      " Self-emp-not-inc              0.285714                       0.714286\n",
      " State-gov                     0.268960                       0.731040\n",
      " Without-pay                   0.000000                       1.000000\n",
      "All                            0.248922                       0.751078\n"
     ]
    }
   ],
   "source": [
    "# JobType vs Salary status:\n",
    "\n",
    "jobtype_salstat = pd.crosstab(index     = data2[\"JobType\"],\n",
    "                             columns   = data2['SalStat'],\n",
    "                             margins   = True,\n",
    "                             normalize = 'index') # include row and column totals\n",
    "print(jobtype_salstat)\n",
    "# by setting normalize = 'index' we get sum of columns in a row to be 1\n",
    "# Plot a bar graph also between these two variables."
   ]
  },
  {
   "cell_type": "markdown",
   "metadata": {},
   "source": [
    "### From the above table it is visible that 56% of self employed people earn more than 50000 USD per year.\n",
    "### Hence JobType is an important variable in avoiding the misude of subsidies."
   ]
  },
  {
   "cell_type": "code",
   "execution_count": 60,
   "metadata": {},
   "outputs": [
    {
     "name": "stdout",
     "output_type": "stream",
     "text": [
      "SalStat         greater than 50,000   less than or equal to 50,000\n",
      "EdType                                                            \n",
      " 10th                      0.071951                       0.928049\n",
      " 11th                      0.056298                       0.943702\n",
      " 12th                      0.076923                       0.923077\n",
      " 1st-4th                   0.039735                       0.960265\n",
      " 5th-6th                   0.041667                       0.958333\n",
      " 7th-8th                   0.062837                       0.937163\n",
      " 9th                       0.054945                       0.945055\n",
      " Assoc-acdm                0.253968                       0.746032\n",
      " Assoc-voc                 0.263198                       0.736802\n",
      " Bachelors                 0.421491                       0.578509\n",
      " Doctorate                 0.746667                       0.253333\n",
      " HS-grad                   0.164329                       0.835671\n",
      " Masters                   0.564229                       0.435771\n",
      " Preschool                 0.000000                       1.000000\n",
      " Prof-school               0.749077                       0.250923\n",
      " Some-college              0.200060                       0.799940\n",
      "All                        0.248922                       0.751078\n"
     ]
    }
   ],
   "source": [
    "# Education vs Salary status:\n",
    "\n",
    "edu_salstat = pd.crosstab(index     = data2[\"EdType\"],\n",
    "                             columns   = data2['SalStat'],\n",
    "                             margins   = True,\n",
    "                             normalize = 'index') # include row and column totals\n",
    "print(edu_salstat)\n",
    "# by setting normalize = 'index' we get sum of columns in a row to be 1\n",
    "# Plot a bar graph also between these two variables."
   ]
  },
  {
   "cell_type": "markdown",
   "metadata": {},
   "source": [
    "### From the above table we can see that people who have done Doctorate, Masters, Prof-school are more likely to earn above 50000 USD per year when compared to others. \n",
    "### Hence, EdType is an influencing variable in avoiding the misuse of subsidies."
   ]
  },
  {
   "cell_type": "code",
   "execution_count": 61,
   "metadata": {},
   "outputs": [
    {
     "name": "stdout",
     "output_type": "stream",
     "text": [
      "SalStat              greater than 50,000   less than or equal to 50,000\n",
      "occupation                                                             \n",
      " Adm-clerical                   0.133835                       0.866165\n",
      " Armed-Forces                   0.111111                       0.888889\n",
      " Craft-repair                   0.225310                       0.774690\n",
      " Exec-managerial                0.485220                       0.514780\n",
      " Farming-fishing                0.116279                       0.883721\n",
      " Handlers-cleaners              0.061481                       0.938519\n",
      " Machine-op-inspct              0.124619                       0.875381\n",
      " Other-service                  0.041096                       0.958904\n",
      " Priv-house-serv                0.006993                       0.993007\n",
      " Prof-specialty                 0.448489                       0.551511\n",
      " Protective-serv                0.326087                       0.673913\n",
      " Sales                          0.270647                       0.729353\n",
      " Tech-support                   0.304825                       0.695175\n",
      " Transport-moving               0.202926                       0.797074\n",
      "All                             0.248922                       0.751078\n"
     ]
    }
   ],
   "source": [
    "# Occupation vs Salary status:\n",
    "\n",
    "occup_salstat = pd.crosstab(index     = data2[\"occupation\"],\n",
    "                             columns   = data2['SalStat'],\n",
    "                             margins   = True,\n",
    "                             normalize = 'index') # include row and column totals\n",
    "print(occup_salstat)\n",
    "# by setting normalize = 'index' we get sum of columns in a row to be 1\n",
    "# Plot a bar graph also between these two variables."
   ]
  },
  {
   "cell_type": "markdown",
   "metadata": {},
   "source": [
    "### Those who make more than 50000 USD per year are more likely to work managers and professionals.\n",
    "### Hence, occupation is also an important variable in avoiding the subsidies."
   ]
  },
  {
   "cell_type": "code",
   "execution_count": 62,
   "metadata": {},
   "outputs": [
    {
     "data": {
      "image/png": "[encoded data removed]",
      "text/plain": [
       "<matplotlib.figure.Figure at 0x1a0df72fd0>"
      ]
     },
     "metadata": {},
     "output_type": "display_data"
    }
   ],
   "source": [
    "##################### HISTOGRAM OF CAPITAL GAIN ###########################\n",
    "\n",
    "sns.distplot(data2['capitalgain'], bins=10, kde=False)\n",
    "plt.show()\n"
   ]
  },
  {
   "cell_type": "markdown",
   "metadata": {},
   "source": [
    "### 92 % (27611 individuals) of the capital gain is 0. This could be an important variable in classifying the salary status of individuals."
   ]
  },
  {
   "cell_type": "code",
   "execution_count": 63,
   "metadata": {},
   "outputs": [
    {
     "data": {
      "image/png": "[encoded data removed]",
      "text/plain": [
       "<matplotlib.figure.Figure at 0x1a0db0be80>"
      ]
     },
     "metadata": {},
     "output_type": "display_data"
    }
   ],
   "source": [
    "##################### HISTOGRAM OF CAPITAL LOSS ###########################\n",
    "\n",
    "sns.distplot(data2['capitalloss'], bins=10, kde=False)\n",
    "plt.show()\n"
   ]
  },
  {
   "cell_type": "markdown",
   "metadata": {},
   "source": [
    "### 95% (28721) of the capital loss is 0. Meaning 28721 individuals have capital loss 0.\n",
    "### We will include this in our model and see whether it could be an important variable or not."
   ]
  },
  {
   "cell_type": "code",
   "execution_count": 64,
   "metadata": {},
   "outputs": [
    {
     "data": {
      "image/png": "[encoded data removed]",
      "text/plain": [
       "<matplotlib.figure.Figure at 0x1a0dd909b0>"
      ]
     },
     "metadata": {},
     "output_type": "display_data"
    }
   ],
   "source": [
    "##################### Box Plot - Hours per week vs Salary status  #################\n",
    "sns.boxplot('SalStat', 'hoursperweek', data=data2)\n",
    "data2.groupby('SalStat')['hoursperweek'].median()\n",
    "plt.show()"
   ]
  },
  {
   "cell_type": "markdown",
   "metadata": {},
   "source": [
    "### From the plot it is clearly visible that those who earn more than 50000 USD per year are more likely to spend 40-50 hours per week in the company.\n",
    "### This variable can contribute in classifying the individual's salary status since there is association between salary status and hours per week."
   ]
  },
  {
   "cell_type": "markdown",
   "metadata": {
    "collapsed": true
   },
   "source": [
    "# LOGISTIC REGRESSION"
   ]
  },
  {
   "cell_type": "markdown",
   "metadata": {},
   "source": [
    "Using Logistic Regression we will build up a classifier model based on the available data."
   ]
  },
  {
   "cell_type": "code",
   "execution_count": 8,
   "metadata": {},
   "outputs": [
    {
     "name": "stdout",
     "output_type": "stream",
     "text": [
      "0        0\n",
      "1        0\n",
      "2        1\n",
      "3        0\n",
      "4        0\n",
      "5        0\n",
      "6        0\n",
      "7        0\n",
      "9        0\n",
      "10       1\n",
      "11       1\n",
      "12       1\n",
      "13       1\n",
      "14       0\n",
      "15       0\n",
      "16       0\n",
      "18       0\n",
      "19       0\n",
      "20       0\n",
      "21       0\n",
      "22       0\n",
      "23       0\n",
      "24       0\n",
      "25       0\n",
      "26       1\n",
      "27       1\n",
      "28       1\n",
      "30       0\n",
      "31       0\n",
      "32       0\n",
      "        ..\n",
      "31946    0\n",
      "31947    0\n",
      "31948    0\n",
      "31949    0\n",
      "31950    1\n",
      "31951    0\n",
      "31952    1\n",
      "31953    0\n",
      "31954    0\n",
      "31955    0\n",
      "31956    0\n",
      "31957    0\n",
      "31958    0\n",
      "31959    1\n",
      "31960    0\n",
      "31961    0\n",
      "31962    0\n",
      "31963    0\n",
      "31964    0\n",
      "31965    1\n",
      "31966    0\n",
      "31969    0\n",
      "31970    1\n",
      "31971    0\n",
      "31972    1\n",
      "31973    0\n",
      "31974    0\n",
      "31975    0\n",
      "31976    0\n",
      "31977    0\n",
      "Name: SalStat, Length: 30162, dtype: int64\n"
     ]
    },
    {
     "name": "stderr",
     "output_type": "stream",
     "text": [
      "/Users/parthrajauria/anaconda3/lib/python3.6/site-packages/ipykernel_launcher.py:2: SettingWithCopyWarning: \n",
      "A value is trying to be set on a copy of a slice from a DataFrame.\n",
      "Try using .loc[row_indexer,col_indexer] = value instead\n",
      "\n",
      "See the caveats in the documentation: http://pandas.pydata.org/pandas-docs/stable/indexing.html#indexing-view-versus-copy\n",
      "  \n"
     ]
    }
   ],
   "source": [
    "# Reindexing the salary status names to 0,1\n",
    "data2['SalStat'] = data2['SalStat'].map({' less than or equal to 50,000':0,' greater than 50,000':1})\n",
    "print(data2['SalStat'])\n",
    "# Here 'SalStat' is our target variable."
   ]
  },
  {
   "cell_type": "code",
   "execution_count": 9,
   "metadata": {},
   "outputs": [
    {
     "data": {
      "text/plain": [
       "(30162, 13)"
      ]
     },
     "execution_count": 9,
     "metadata": {},
     "output_type": "execute_result"
    }
   ],
   "source": [
    "data2.shape"
   ]
  },
  {
   "cell_type": "code",
   "execution_count": 10,
   "metadata": {},
   "outputs": [
    {
     "data": {
      "text/plain": [
       "(30162, 95)"
      ]
     },
     "execution_count": 10,
     "metadata": {},
     "output_type": "execute_result"
    }
   ],
   "source": [
    "new_data=pd.get_dummies(data2, drop_first=True)\n",
    "\n",
    "new_data.shape"
   ]
  },
  {
   "cell_type": "markdown",
   "metadata": {},
   "source": [
    "* This method is called one hot encoding.\n",
    "* get_dummies method converts all the categorical features to 0 and 1. For example, JobType column has been splitted into seven columns (as there were 7 categories inside JobType) in order to covert data into 0 and 1 form."
   ]
  },
  {
   "cell_type": "code",
   "execution_count": 11,
   "metadata": {},
   "outputs": [
    {
     "data": {
      "text/html": [
       "<div>\n",
       "<style>\n",
       "    .dataframe thead tr:only-child th {\n",
       "        text-align: right;\n",
       "    }\n",
       "\n",
       "    .dataframe thead th {\n",
       "        text-align: left;\n",
       "    }\n",
       "\n",
       "    .dataframe tbody tr th {\n",
       "        vertical-align: top;\n",
       "    }\n",
       "</style>\n",
       "<table border=\"1\" class=\"dataframe\">\n",
       "  <thead>\n",
       "    <tr style=\"text-align: right;\">\n",
       "      <th></th>\n",
       "      <th>age</th>\n",
       "      <th>capitalgain</th>\n",
       "      <th>capitalloss</th>\n",
       "      <th>hoursperweek</th>\n",
       "      <th>SalStat</th>\n",
       "      <th>JobType_ Local-gov</th>\n",
       "      <th>JobType_ Private</th>\n",
       "      <th>JobType_ Self-emp-inc</th>\n",
       "      <th>JobType_ Self-emp-not-inc</th>\n",
       "      <th>JobType_ State-gov</th>\n",
       "      <th>...</th>\n",
       "      <th>nativecountry_ Portugal</th>\n",
       "      <th>nativecountry_ Puerto-Rico</th>\n",
       "      <th>nativecountry_ Scotland</th>\n",
       "      <th>nativecountry_ South</th>\n",
       "      <th>nativecountry_ Taiwan</th>\n",
       "      <th>nativecountry_ Thailand</th>\n",
       "      <th>nativecountry_ Trinadad&amp;Tobago</th>\n",
       "      <th>nativecountry_ United-States</th>\n",
       "      <th>nativecountry_ Vietnam</th>\n",
       "      <th>nativecountry_ Yugoslavia</th>\n",
       "    </tr>\n",
       "  </thead>\n",
       "  <tbody>\n",
       "    <tr>\n",
       "      <th>0</th>\n",
       "      <td>45</td>\n",
       "      <td>0</td>\n",
       "      <td>0</td>\n",
       "      <td>28</td>\n",
       "      <td>0</td>\n",
       "      <td>0</td>\n",
       "      <td>1</td>\n",
       "      <td>0</td>\n",
       "      <td>0</td>\n",
       "      <td>0</td>\n",
       "      <td>...</td>\n",
       "      <td>0</td>\n",
       "      <td>0</td>\n",
       "      <td>0</td>\n",
       "      <td>0</td>\n",
       "      <td>0</td>\n",
       "      <td>0</td>\n",
       "      <td>0</td>\n",
       "      <td>1</td>\n",
       "      <td>0</td>\n",
       "      <td>0</td>\n",
       "    </tr>\n",
       "    <tr>\n",
       "      <th>1</th>\n",
       "      <td>24</td>\n",
       "      <td>0</td>\n",
       "      <td>0</td>\n",
       "      <td>40</td>\n",
       "      <td>0</td>\n",
       "      <td>0</td>\n",
       "      <td>0</td>\n",
       "      <td>0</td>\n",
       "      <td>0</td>\n",
       "      <td>0</td>\n",
       "      <td>...</td>\n",
       "      <td>0</td>\n",
       "      <td>0</td>\n",
       "      <td>0</td>\n",
       "      <td>0</td>\n",
       "      <td>0</td>\n",
       "      <td>0</td>\n",
       "      <td>0</td>\n",
       "      <td>1</td>\n",
       "      <td>0</td>\n",
       "      <td>0</td>\n",
       "    </tr>\n",
       "    <tr>\n",
       "      <th>2</th>\n",
       "      <td>44</td>\n",
       "      <td>0</td>\n",
       "      <td>0</td>\n",
       "      <td>40</td>\n",
       "      <td>1</td>\n",
       "      <td>0</td>\n",
       "      <td>1</td>\n",
       "      <td>0</td>\n",
       "      <td>0</td>\n",
       "      <td>0</td>\n",
       "      <td>...</td>\n",
       "      <td>0</td>\n",
       "      <td>0</td>\n",
       "      <td>0</td>\n",
       "      <td>0</td>\n",
       "      <td>0</td>\n",
       "      <td>0</td>\n",
       "      <td>0</td>\n",
       "      <td>1</td>\n",
       "      <td>0</td>\n",
       "      <td>0</td>\n",
       "    </tr>\n",
       "    <tr>\n",
       "      <th>3</th>\n",
       "      <td>27</td>\n",
       "      <td>0</td>\n",
       "      <td>0</td>\n",
       "      <td>40</td>\n",
       "      <td>0</td>\n",
       "      <td>0</td>\n",
       "      <td>1</td>\n",
       "      <td>0</td>\n",
       "      <td>0</td>\n",
       "      <td>0</td>\n",
       "      <td>...</td>\n",
       "      <td>0</td>\n",
       "      <td>0</td>\n",
       "      <td>0</td>\n",
       "      <td>0</td>\n",
       "      <td>0</td>\n",
       "      <td>0</td>\n",
       "      <td>0</td>\n",
       "      <td>0</td>\n",
       "      <td>0</td>\n",
       "      <td>0</td>\n",
       "    </tr>\n",
       "    <tr>\n",
       "      <th>4</th>\n",
       "      <td>20</td>\n",
       "      <td>0</td>\n",
       "      <td>0</td>\n",
       "      <td>35</td>\n",
       "      <td>0</td>\n",
       "      <td>0</td>\n",
       "      <td>1</td>\n",
       "      <td>0</td>\n",
       "      <td>0</td>\n",
       "      <td>0</td>\n",
       "      <td>...</td>\n",
       "      <td>0</td>\n",
       "      <td>0</td>\n",
       "      <td>0</td>\n",
       "      <td>0</td>\n",
       "      <td>0</td>\n",
       "      <td>0</td>\n",
       "      <td>0</td>\n",
       "      <td>1</td>\n",
       "      <td>0</td>\n",
       "      <td>0</td>\n",
       "    </tr>\n",
       "  </tbody>\n",
       "</table>\n",
       "<p>5 rows × 95 columns</p>\n",
       "</div>"
      ],
      "text/plain": [
       "   age  capitalgain  capitalloss  hoursperweek  SalStat  JobType_ Local-gov  \\\n",
       "0   45            0            0            28        0                   0   \n",
       "1   24            0            0            40        0                   0   \n",
       "2   44            0            0            40        1                   0   \n",
       "3   27            0            0            40        0                   0   \n",
       "4   20            0            0            35        0                   0   \n",
       "\n",
       "   JobType_ Private  JobType_ Self-emp-inc  JobType_ Self-emp-not-inc  \\\n",
       "0                 1                      0                          0   \n",
       "1                 0                      0                          0   \n",
       "2                 1                      0                          0   \n",
       "3                 1                      0                          0   \n",
       "4                 1                      0                          0   \n",
       "\n",
       "   JobType_ State-gov            ...              nativecountry_ Portugal  \\\n",
       "0                   0            ...                                    0   \n",
       "1                   0            ...                                    0   \n",
       "2                   0            ...                                    0   \n",
       "3                   0            ...                                    0   \n",
       "4                   0            ...                                    0   \n",
       "\n",
       "   nativecountry_ Puerto-Rico  nativecountry_ Scotland  nativecountry_ South  \\\n",
       "0                           0                        0                     0   \n",
       "1                           0                        0                     0   \n",
       "2                           0                        0                     0   \n",
       "3                           0                        0                     0   \n",
       "4                           0                        0                     0   \n",
       "\n",
       "   nativecountry_ Taiwan  nativecountry_ Thailand  \\\n",
       "0                      0                        0   \n",
       "1                      0                        0   \n",
       "2                      0                        0   \n",
       "3                      0                        0   \n",
       "4                      0                        0   \n",
       "\n",
       "   nativecountry_ Trinadad&Tobago  nativecountry_ United-States  \\\n",
       "0                               0                             1   \n",
       "1                               0                             1   \n",
       "2                               0                             1   \n",
       "3                               0                             0   \n",
       "4                               0                             1   \n",
       "\n",
       "   nativecountry_ Vietnam  nativecountry_ Yugoslavia  \n",
       "0                       0                          0  \n",
       "1                       0                          0  \n",
       "2                       0                          0  \n",
       "3                       0                          0  \n",
       "4                       0                          0  \n",
       "\n",
       "[5 rows x 95 columns]"
      ]
     },
     "execution_count": 11,
     "metadata": {},
     "output_type": "execute_result"
    }
   ],
   "source": [
    "new_data.head()"
   ]
  },
  {
   "cell_type": "code",
   "execution_count": 12,
   "metadata": {},
   "outputs": [
    {
     "name": "stdout",
     "output_type": "stream",
     "text": [
      "['age', 'capitalgain', 'capitalloss', 'hoursperweek', 'SalStat', 'JobType_ Local-gov', 'JobType_ Private', 'JobType_ Self-emp-inc', 'JobType_ Self-emp-not-inc', 'JobType_ State-gov', 'JobType_ Without-pay', 'EdType_ 11th', 'EdType_ 12th', 'EdType_ 1st-4th', 'EdType_ 5th-6th', 'EdType_ 7th-8th', 'EdType_ 9th', 'EdType_ Assoc-acdm', 'EdType_ Assoc-voc', 'EdType_ Bachelors', 'EdType_ Doctorate', 'EdType_ HS-grad', 'EdType_ Masters', 'EdType_ Preschool', 'EdType_ Prof-school', 'EdType_ Some-college', 'maritalstatus_ Married-AF-spouse', 'maritalstatus_ Married-civ-spouse', 'maritalstatus_ Married-spouse-absent', 'maritalstatus_ Never-married', 'maritalstatus_ Separated', 'maritalstatus_ Widowed', 'occupation_ Armed-Forces', 'occupation_ Craft-repair', 'occupation_ Exec-managerial', 'occupation_ Farming-fishing', 'occupation_ Handlers-cleaners', 'occupation_ Machine-op-inspct', 'occupation_ Other-service', 'occupation_ Priv-house-serv', 'occupation_ Prof-specialty', 'occupation_ Protective-serv', 'occupation_ Sales', 'occupation_ Tech-support', 'occupation_ Transport-moving', 'relationship_ Not-in-family', 'relationship_ Other-relative', 'relationship_ Own-child', 'relationship_ Unmarried', 'relationship_ Wife', 'race_ Asian-Pac-Islander', 'race_ Black', 'race_ Other', 'race_ White', 'gender_ Male', 'nativecountry_ Canada', 'nativecountry_ China', 'nativecountry_ Columbia', 'nativecountry_ Cuba', 'nativecountry_ Dominican-Republic', 'nativecountry_ Ecuador', 'nativecountry_ El-Salvador', 'nativecountry_ England', 'nativecountry_ France', 'nativecountry_ Germany', 'nativecountry_ Greece', 'nativecountry_ Guatemala', 'nativecountry_ Haiti', 'nativecountry_ Holand-Netherlands', 'nativecountry_ Honduras', 'nativecountry_ Hong', 'nativecountry_ Hungary', 'nativecountry_ India', 'nativecountry_ Iran', 'nativecountry_ Ireland', 'nativecountry_ Italy', 'nativecountry_ Jamaica', 'nativecountry_ Japan', 'nativecountry_ Laos', 'nativecountry_ Mexico', 'nativecountry_ Nicaragua', 'nativecountry_ Outlying-US(Guam-USVI-etc)', 'nativecountry_ Peru', 'nativecountry_ Philippines', 'nativecountry_ Poland', 'nativecountry_ Portugal', 'nativecountry_ Puerto-Rico', 'nativecountry_ Scotland', 'nativecountry_ South', 'nativecountry_ Taiwan', 'nativecountry_ Thailand', 'nativecountry_ Trinadad&Tobago', 'nativecountry_ United-States', 'nativecountry_ Vietnam', 'nativecountry_ Yugoslavia']\n"
     ]
    }
   ],
   "source": [
    "# Storing the column names\n",
    "columns_list=list(new_data.columns)\n",
    "print(columns_list)"
   ]
  },
  {
   "cell_type": "code",
   "execution_count": 13,
   "metadata": {},
   "outputs": [
    {
     "name": "stdout",
     "output_type": "stream",
     "text": [
      "['nativecountry_ Holand-Netherlands', 'relationship_ Wife', 'nativecountry_ Laos', 'nativecountry_ France', 'nativecountry_ Italy', 'nativecountry_ United-States', 'nativecountry_ Dominican-Republic', 'nativecountry_ Scotland', 'nativecountry_ South', 'age', 'hoursperweek', 'capitalgain', 'relationship_ Own-child', 'nativecountry_ Guatemala', 'nativecountry_ Honduras', 'maritalstatus_ Married-civ-spouse', 'nativecountry_ Ecuador', 'capitalloss', 'JobType_ Local-gov', 'occupation_ Exec-managerial', 'nativecountry_ Philippines', 'nativecountry_ India', 'EdType_ 1st-4th', 'nativecountry_ Jamaica', 'nativecountry_ Hungary', 'EdType_ 5th-6th', 'nativecountry_ Portugal', 'nativecountry_ Puerto-Rico', 'occupation_ Craft-repair', 'maritalstatus_ Married-AF-spouse', 'nativecountry_ China', 'nativecountry_ Poland', 'EdType_ 7th-8th', 'race_ White', 'nativecountry_ Thailand', 'relationship_ Unmarried', 'race_ Asian-Pac-Islander', 'nativecountry_ Taiwan', 'nativecountry_ Iran', 'gender_ Male', 'nativecountry_ Japan', 'EdType_ Masters', 'occupation_ Machine-op-inspct', 'nativecountry_ Ireland', 'EdType_ Some-college', 'nativecountry_ Hong', 'occupation_ Transport-moving', 'occupation_ Sales', 'nativecountry_ Columbia', 'nativecountry_ England', 'nativecountry_ Germany', 'occupation_ Priv-house-serv', 'EdType_ 11th', 'maritalstatus_ Married-spouse-absent', 'occupation_ Other-service', 'nativecountry_ Trinadad&Tobago', 'nativecountry_ Cuba', 'EdType_ Assoc-voc', 'relationship_ Other-relative', 'occupation_ Tech-support', 'nativecountry_ Greece', 'nativecountry_ Outlying-US(Guam-USVI-etc)', 'occupation_ Handlers-cleaners', 'relationship_ Not-in-family', 'JobType_ State-gov', 'JobType_ Without-pay', 'nativecountry_ Yugoslavia', 'EdType_ 9th', 'occupation_ Farming-fishing', 'nativecountry_ Canada', 'nativecountry_ El-Salvador', 'EdType_ Prof-school', 'EdType_ Bachelors', 'occupation_ Prof-specialty', 'maritalstatus_ Separated', 'maritalstatus_ Widowed', 'EdType_ Preschool', 'maritalstatus_ Never-married', 'occupation_ Protective-serv', 'EdType_ HS-grad', 'JobType_ Private', 'EdType_ 12th', 'nativecountry_ Nicaragua', 'nativecountry_ Peru', 'nativecountry_ Mexico', 'EdType_ Doctorate', 'EdType_ Assoc-acdm', 'race_ Black', 'occupation_ Armed-Forces', 'nativecountry_ Vietnam', 'race_ Other', 'JobType_ Self-emp-inc', 'nativecountry_ Haiti', 'JobType_ Self-emp-not-inc']\n"
     ]
    }
   ],
   "source": [
    "# Seperating the input names from data \n",
    "features=list(set(columns_list)-set(['SalStat']))\n",
    "print(features)\n"
   ]
  },
  {
   "cell_type": "code",
   "execution_count": 14,
   "metadata": {},
   "outputs": [
    {
     "name": "stdout",
     "output_type": "stream",
     "text": [
      "[0 0 1 ..., 0 0 0]\n"
     ]
    }
   ],
   "source": [
    "# Storing the output value in y\n",
    "y = new_data['SalStat'].values\n",
    "print(y)"
   ]
  },
  {
   "cell_type": "code",
   "execution_count": 15,
   "metadata": {},
   "outputs": [
    {
     "name": "stdout",
     "output_type": "stream",
     "text": [
      "[[0 0 0 ..., 0 0 0]\n",
      " [0 0 0 ..., 0 0 0]\n",
      " [0 0 0 ..., 0 0 0]\n",
      " ..., \n",
      " [0 0 0 ..., 0 0 0]\n",
      " [0 1 0 ..., 0 0 0]\n",
      " [0 0 0 ..., 0 0 0]]\n"
     ]
    }
   ],
   "source": [
    "# Storing the values from input features\n",
    "x = new_data[features].values\n",
    "print(x)"
   ]
  },
  {
   "cell_type": "code",
   "execution_count": 16,
   "metadata": {
    "collapsed": true
   },
   "outputs": [],
   "source": [
    "# splitting the data into train and test\n",
    "train_x, test_x, train_y, test_y = train_test_split(x ,y, test_size = 0.3, random_state = 0)\n",
    "# we fix random state to one particular value so that each time this block of code runs, the same set of rows will be \n",
    "# chosen in train-test split."
   ]
  },
  {
   "cell_type": "markdown",
   "metadata": {},
   "source": [
    "## Building Dummy Classifier (Baseline Model)"
   ]
  },
  {
   "cell_type": "code",
   "execution_count": 17,
   "metadata": {},
   "outputs": [
    {
     "data": {
      "text/plain": [
       "array([0, 0, 0, ..., 0, 0, 0])"
      ]
     },
     "execution_count": 17,
     "metadata": {},
     "output_type": "execute_result"
    }
   ],
   "source": [
    "from sklearn.dummy import DummyClassifier\n",
    "\n",
    "#  class (0) is most frequent\n",
    "dummy_majority = DummyClassifier(strategy = 'most_frequent').fit(train_x, train_y)\n",
    "# Therefore the dummy 'most_frequent' classifier always predicts class 0\n",
    "y_dummy_predictions = dummy_majority.predict(test_x)\n",
    "\n",
    "y_dummy_predictions"
   ]
  },
  {
   "cell_type": "markdown",
   "metadata": {},
   "source": [
    "Our model always predict 0 for all the data instances in test_x"
   ]
  },
  {
   "cell_type": "code",
   "execution_count": 18,
   "metadata": {},
   "outputs": [
    {
     "data": {
      "text/plain": [
       "0.75400596751022209"
      ]
     },
     "execution_count": 18,
     "metadata": {},
     "output_type": "execute_result"
    }
   ],
   "source": [
    "dummy_majority.score(test_x, test_y)"
   ]
  },
  {
   "cell_type": "markdown",
   "metadata": {},
   "source": [
    "### Hence, Our baseline accuracy is 0.7540059"
   ]
  },
  {
   "cell_type": "markdown",
   "metadata": {},
   "source": [
    "## Logistic Regression Model."
   ]
  },
  {
   "cell_type": "code",
   "execution_count": 15,
   "metadata": {
    "collapsed": true
   },
   "outputs": [],
   "source": [
    "# Make an instance of the Model\n",
    "logistic = LogisticRegression()"
   ]
  },
  {
   "cell_type": "code",
   "execution_count": 16,
   "metadata": {},
   "outputs": [
    {
     "data": {
      "text/plain": [
       "LogisticRegression(C=1.0, class_weight=None, dual=False, fit_intercept=True,\n",
       "          intercept_scaling=1, max_iter=100, multi_class='ovr', n_jobs=1,\n",
       "          penalty='l2', random_state=None, solver='liblinear', tol=0.0001,\n",
       "          verbose=0, warm_start=False)"
      ]
     },
     "execution_count": 16,
     "metadata": {},
     "output_type": "execute_result"
    }
   ],
   "source": [
    "# Fitting the values for x and y\n",
    "logistic.fit(train_x, train_y)\n"
   ]
  },
  {
   "cell_type": "code",
   "execution_count": 17,
   "metadata": {},
   "outputs": [
    {
     "data": {
      "text/plain": [
       "array([[  7.88321260e-03,   1.42229455e-01,  -4.75424070e-02,\n",
       "         -3.96856189e-01,   1.22166520e-01,  -3.18863085e-02,\n",
       "         -9.49648868e-02,   6.53315750e-02,  -1.19341262e-01,\n",
       "          7.86915317e-01,  -2.15912543e-01,  -5.06245899e-01,\n",
       "         -1.75427051e-02,  -9.69136033e-02,   6.41178865e-02,\n",
       "          1.36246177e+00,  -3.42209202e-01,   2.67760878e-02,\n",
       "         -1.40720062e-01,  -9.31763537e-02,  -6.99955247e-01,\n",
       "         -9.40479883e-03,   6.84768759e-01,  -7.74343159e-01,\n",
       "          9.98676703e-01,  -8.04790217e-01,  -4.78376288e-02,\n",
       "          6.63816515e-01,   1.43590010e-02,  -3.56188435e-02,\n",
       "         -5.11589887e-01,   2.27140229e-02,   8.64744881e-02,\n",
       "         -9.00526581e-01,  -3.65320755e-01,  -1.88773558e-01,\n",
       "         -6.07985018e-01,  -9.16813727e-01,  -8.57385897e-01,\n",
       "         -3.94355924e-02,  -6.22544385e-02,  -3.10793257e-03,\n",
       "         -9.03687127e-01,  -2.48517379e-01,   3.12680624e-04,\n",
       "          1.83587582e-01,  -9.58529180e-01,  -6.82630498e-02,\n",
       "          4.28897466e-01,  -1.30496698e-02,  -6.38413735e-02,\n",
       "         -5.97069711e-01,  -7.47485703e-01,  -1.64668481e-01,\n",
       "         -2.25692339e-01,   1.05996001e-01,   5.19904248e-02,\n",
       "         -1.26351023e+00,   4.23188151e-01,  -3.77468454e-01,\n",
       "         -2.69041418e-01,  -7.43841781e-02,   9.69849527e-01,\n",
       "         -1.75052324e-01,  -7.89625242e-03,  -5.95425046e-02,\n",
       "          6.43562717e-04,  -7.89730351e-02,  -1.13737057e+00,\n",
       "         -1.06621452e+00,  -1.63033351e+00,  -2.08801789e-02,\n",
       "         -2.71615673e-02,  -5.14928799e-01,  -1.11138719e-01,\n",
       "         -4.00619833e-01,   1.21663816e+00,  -2.12251042e-01,\n",
       "         -2.53455365e-01,   2.51998000e-02,  -4.58548027e-01,\n",
       "         -4.02351345e-01,  -2.06316155e-01,  -5.47572112e-02,\n",
       "         -8.81599458e-01,   6.81458461e-03,  -2.78175391e-02,\n",
       "         -1.71506572e-01,  -2.32160776e-02,   6.76621702e-01,\n",
       "         -6.60723668e-01,  -8.85811942e-01,   7.45486436e-01,\n",
       "         -2.54027881e-02]])"
      ]
     },
     "execution_count": 17,
     "metadata": {},
     "output_type": "execute_result"
    }
   ],
   "source": [
    "logistic.coef_"
   ]
  },
  {
   "cell_type": "code",
   "execution_count": 18,
   "metadata": {},
   "outputs": [
    {
     "data": {
      "text/plain": [
       "array([-3.03632535])"
      ]
     },
     "execution_count": 18,
     "metadata": {},
     "output_type": "execute_result"
    }
   ],
   "source": [
    "logistic.intercept_"
   ]
  },
  {
   "cell_type": "code",
   "execution_count": 19,
   "metadata": {},
   "outputs": [
    {
     "name": "stdout",
     "output_type": "stream",
     "text": [
      "[0 0 0 ..., 0 0 0]\n"
     ]
    }
   ],
   "source": [
    "# Prediction from test data\n",
    "prediction = logistic.predict(test_x)\n",
    "print(prediction)"
   ]
  },
  {
   "cell_type": "code",
   "execution_count": 20,
   "metadata": {},
   "outputs": [
    {
     "name": "stdout",
     "output_type": "stream",
     "text": [
      "[[6332  491]\n",
      " [ 936 1290]]\n"
     ]
    }
   ],
   "source": [
    "# Confusion matrix\n",
    "confusion_matrix = confusion_matrix(test_y, prediction)\n",
    "print(confusion_matrix)"
   ]
  },
  {
   "cell_type": "markdown",
   "metadata": {},
   "source": [
    "### Here, we observe that 491 and 936 are the misclassifications done by the model."
   ]
  },
  {
   "cell_type": "code",
   "execution_count": 21,
   "metadata": {},
   "outputs": [
    {
     "name": "stdout",
     "output_type": "stream",
     "text": [
      "0.842303016908\n"
     ]
    }
   ],
   "source": [
    "# Calculating the accuracy\n",
    "accuracy_score = accuracy_score(test_y, prediction)\n",
    "print(accuracy_score)"
   ]
  },
  {
   "cell_type": "markdown",
   "metadata": {},
   "source": [
    "### It means that 84% of time, model is able to classify correctly. This is clearly better than our baseline model."
   ]
  },
  {
   "cell_type": "code",
   "execution_count": 22,
   "metadata": {},
   "outputs": [
    {
     "name": "stdout",
     "output_type": "stream",
     "text": [
      "Misclassified samples: 1427\n"
     ]
    }
   ],
   "source": [
    "# Printing the misclassified values from prediction\n",
    "\n",
    "print('Misclassified samples: %d' % (test_y != prediction).sum())"
   ]
  },
  {
   "cell_type": "code",
   "execution_count": 20,
   "metadata": {},
   "outputs": [
    {
     "name": "stdout",
     "output_type": "stream",
     "text": [
      "0        0\n",
      "1        0\n",
      "2        1\n",
      "3        0\n",
      "4        0\n",
      "5        0\n",
      "6        0\n",
      "7        0\n",
      "9        0\n",
      "10       1\n",
      "11       1\n",
      "12       1\n",
      "13       1\n",
      "14       0\n",
      "15       0\n",
      "16       0\n",
      "18       0\n",
      "19       0\n",
      "20       0\n",
      "21       0\n",
      "22       0\n",
      "23       0\n",
      "24       0\n",
      "25       0\n",
      "26       1\n",
      "27       1\n",
      "28       1\n",
      "30       0\n",
      "31       0\n",
      "32       0\n",
      "        ..\n",
      "31946    0\n",
      "31947    0\n",
      "31948    0\n",
      "31949    0\n",
      "31950    1\n",
      "31951    0\n",
      "31952    1\n",
      "31953    0\n",
      "31954    0\n",
      "31955    0\n",
      "31956    0\n",
      "31957    0\n",
      "31958    0\n",
      "31959    1\n",
      "31960    0\n",
      "31961    0\n",
      "31962    0\n",
      "31963    0\n",
      "31964    0\n",
      "31965    1\n",
      "31966    0\n",
      "31969    0\n",
      "31970    1\n",
      "31971    0\n",
      "31972    1\n",
      "31973    0\n",
      "31974    0\n",
      "31975    0\n",
      "31976    0\n",
      "31977    0\n",
      "Name: SalStat, Length: 30162, dtype: int64\n"
     ]
    }
   ],
   "source": [
    "print(data2['SalStat'])"
   ]
  },
  {
   "cell_type": "markdown",
   "metadata": {},
   "source": [
    "# LOGISTIC REGRESSION - REMOVING INSIGNIFICANT VARIABLES"
   ]
  },
  {
   "cell_type": "markdown",
   "metadata": {},
   "source": [
    "We will build another Logistic Regression Model, but by removing insignificant variables."
   ]
  },
  {
   "cell_type": "code",
   "execution_count": 19,
   "metadata": {},
   "outputs": [
    {
     "name": "stdout",
     "output_type": "stream",
     "text": [
      "       age         EdType           maritalstatus          occupation  \\\n",
      "0       45        HS-grad                Divorced        Adm-clerical   \n",
      "1       24        HS-grad           Never-married        Armed-Forces   \n",
      "2       44   Some-college      Married-civ-spouse      Prof-specialty   \n",
      "3       27            9th           Never-married        Craft-repair   \n",
      "4       20   Some-college           Never-married               Sales   \n",
      "5       44        HS-grad                 Widowed     Exec-managerial   \n",
      "6       51        HS-grad      Married-civ-spouse        Craft-repair   \n",
      "7       20        HS-grad      Married-civ-spouse   Machine-op-inspct   \n",
      "9       19        HS-grad           Never-married   Machine-op-inspct   \n",
      "10      45   Some-college      Married-civ-spouse        Craft-repair   \n",
      "11      60        HS-grad      Married-civ-spouse        Craft-repair   \n",
      "12      44        HS-grad      Married-civ-spouse               Sales   \n",
      "13      40      Assoc-voc      Married-civ-spouse   Machine-op-inspct   \n",
      "14      30        HS-grad      Married-civ-spouse     Exec-managerial   \n",
      "15      38   Some-college      Married-civ-spouse    Transport-moving   \n",
      "16      23        HS-grad      Married-civ-spouse    Transport-moving   \n",
      "18      44     Assoc-acdm           Never-married     Farming-fishing   \n",
      "19      54        HS-grad      Married-civ-spouse    Transport-moving   \n",
      "20      32      Bachelors      Married-civ-spouse      Prof-specialty   \n",
      "21      50        1st-4th   Married-spouse-absent        Craft-repair   \n",
      "22      24      Bachelors           Never-married        Tech-support   \n",
      "23      37        HS-grad      Married-civ-spouse        Adm-clerical   \n",
      "24      52        HS-grad                Divorced    Transport-moving   \n",
      "25      38   Some-college      Married-civ-spouse    Transport-moving   \n",
      "26      49        Masters      Married-civ-spouse     Exec-managerial   \n",
      "27      30      Bachelors      Married-civ-spouse        Tech-support   \n",
      "28      60   Some-college           Never-married      Prof-specialty   \n",
      "30      35        HS-grad           Never-married        Craft-repair   \n",
      "31      30        HS-grad           Never-married    Transport-moving   \n",
      "32      67      Assoc-voc                Divorced       Other-service   \n",
      "...    ...            ...                     ...                 ...   \n",
      "31946   32   Some-college      Married-civ-spouse     Exec-managerial   \n",
      "31947   41   Some-college                Divorced       Other-service   \n",
      "31948   24        HS-grad           Never-married   Handlers-cleaners   \n",
      "31949   33   Some-college                Divorced     Exec-managerial   \n",
      "31950   46      Doctorate      Married-civ-spouse     Exec-managerial   \n",
      "31951   31   Some-college      Married-civ-spouse   Machine-op-inspct   \n",
      "31952   35           12th                Divorced        Craft-repair   \n",
      "31953   52        1st-4th      Married-civ-spouse   Machine-op-inspct   \n",
      "31954   30           11th           Never-married       Other-service   \n",
      "31955   34           11th               Separated   Machine-op-inspct   \n",
      "31956   34        HS-grad                Divorced    Transport-moving   \n",
      "31957   20   Some-college      Married-civ-spouse               Sales   \n",
      "31958   17           11th           Never-married   Handlers-cleaners   \n",
      "31959   32      Bachelors      Married-civ-spouse     Exec-managerial   \n",
      "31960   29        HS-grad                Divorced     Farming-fishing   \n",
      "31961   33           10th           Never-married        Craft-repair   \n",
      "31962   25        HS-grad      Married-civ-spouse    Transport-moving   \n",
      "31963   36        Masters           Never-married      Prof-specialty   \n",
      "31964   23        HS-grad           Never-married   Handlers-cleaners   \n",
      "31965   63        HS-grad      Married-civ-spouse     Exec-managerial   \n",
      "31966   47        Masters      Married-civ-spouse      Prof-specialty   \n",
      "31969   40      Bachelors   Married-spouse-absent      Prof-specialty   \n",
      "31970   30     Assoc-acdm      Married-civ-spouse       Other-service   \n",
      "31971   27   Some-college           Never-married        Craft-repair   \n",
      "31972   33        Masters      Married-civ-spouse      Prof-specialty   \n",
      "31973   34        HS-grad           Never-married     Farming-fishing   \n",
      "31974   34   Some-college           Never-married     Protective-serv   \n",
      "31975   23   Some-college      Married-civ-spouse        Adm-clerical   \n",
      "31976   42   Some-college      Married-civ-spouse        Adm-clerical   \n",
      "31977   29      Bachelors           Never-married      Prof-specialty   \n",
      "\n",
      "          relationship  capitalgain  capitalloss  hoursperweek  SalStat  \n",
      "0        Not-in-family            0            0            28        0  \n",
      "1            Own-child            0            0            40        0  \n",
      "2              Husband            0            0            40        1  \n",
      "3       Other-relative            0            0            40        0  \n",
      "4        Not-in-family            0            0            35        0  \n",
      "5            Unmarried            0            0            40        0  \n",
      "6              Husband            0            0            40        0  \n",
      "7              Husband            0            0            40        0  \n",
      "9            Own-child            0            0            40        0  \n",
      "10             Husband            0            0            55        1  \n",
      "11             Husband            0            0            40        1  \n",
      "12                Wife            0            0            40        1  \n",
      "13             Husband            0            0            40        1  \n",
      "14                Wife            0            0            40        0  \n",
      "15             Husband            0            0            50        0  \n",
      "16             Husband            0            0            60        0  \n",
      "18           Own-child            0            0            40        0  \n",
      "19             Husband            0            0            40        0  \n",
      "20             Husband            0            0            50        0  \n",
      "21           Unmarried            0            0            40        0  \n",
      "22       Not-in-family            0            0            20        0  \n",
      "23                Wife            0            0            60        0  \n",
      "24           Unmarried            0            0            40        0  \n",
      "25             Husband            0            0            40        0  \n",
      "26             Husband            0         1977            45        1  \n",
      "27                Wife            0            0            16        1  \n",
      "28           Unmarried            0            0            40        1  \n",
      "30       Not-in-family            0            0            40        0  \n",
      "31       Not-in-family            0            0            60        0  \n",
      "32       Not-in-family            0            0            24        0  \n",
      "...                ...          ...          ...           ...      ...  \n",
      "31946          Husband            0            0            50        0  \n",
      "31947    Not-in-family            0            0            24        0  \n",
      "31948        Unmarried            0            0            40        0  \n",
      "31949        Unmarried            0            0            40        0  \n",
      "31950          Husband        15024            0            60        1  \n",
      "31951          Husband            0            0            40        0  \n",
      "31952    Not-in-family            0            0            50        1  \n",
      "31953          Husband            0            0            40        0  \n",
      "31954        Own-child            0            0            19        0  \n",
      "31955    Not-in-family            0            0            40        0  \n",
      "31956        Unmarried            0            0            40        0  \n",
      "31957          Husband            0            0            30        0  \n",
      "31958        Own-child         2176            0            18        0  \n",
      "31959             Wife            0            0            40        1  \n",
      "31960    Not-in-family            0            0            40        0  \n",
      "31961        Unmarried            0            0            35        0  \n",
      "31962          Husband            0            0            60        0  \n",
      "31963    Not-in-family            0         1408            40        0  \n",
      "31964    Not-in-family            0            0            72        0  \n",
      "31965          Husband            0            0            40        1  \n",
      "31966          Husband            0            0            40        0  \n",
      "31969    Not-in-family         2174            0            40        0  \n",
      "31970             Wife            0            0            25        1  \n",
      "31971        Own-child            0         1980            40        0  \n",
      "31972          Husband            0            0            50        1  \n",
      "31973    Not-in-family          594            0            60        0  \n",
      "31974    Not-in-family            0            0            40        0  \n",
      "31975          Husband            0            0            40        0  \n",
      "31976             Wife            0            0            40        0  \n",
      "31977    Not-in-family            0            0            40        0  \n",
      "\n",
      "[30162 rows x 9 columns]\n"
     ]
    }
   ],
   "source": [
    "cols = ['gender', 'nativecountry', 'race', 'JobType']\n",
    "new_data2 = data2.drop(cols, axis=1)\n",
    "print(new_data2)"
   ]
  },
  {
   "cell_type": "code",
   "execution_count": 20,
   "metadata": {},
   "outputs": [
    {
     "data": {
      "text/plain": [
       "(30162, 9)"
      ]
     },
     "execution_count": 20,
     "metadata": {},
     "output_type": "execute_result"
    }
   ],
   "source": [
    "new_data2.shape"
   ]
  },
  {
   "cell_type": "code",
   "execution_count": 21,
   "metadata": {
    "collapsed": true
   },
   "outputs": [],
   "source": [
    "new_data2=pd.get_dummies(new_data2, drop_first=True)"
   ]
  },
  {
   "cell_type": "code",
   "execution_count": 22,
   "metadata": {},
   "outputs": [
    {
     "data": {
      "text/plain": [
       "(30162, 44)"
      ]
     },
     "execution_count": 22,
     "metadata": {},
     "output_type": "execute_result"
    }
   ],
   "source": [
    "new_data2.shape"
   ]
  },
  {
   "cell_type": "markdown",
   "metadata": {},
   "source": [
    "Observe that now we have only 44 columns instead of 95 previously."
   ]
  },
  {
   "cell_type": "code",
   "execution_count": 23,
   "metadata": {},
   "outputs": [
    {
     "name": "stdout",
     "output_type": "stream",
     "text": [
      "['age', 'capitalgain', 'capitalloss', 'hoursperweek', 'SalStat', 'EdType_ 11th', 'EdType_ 12th', 'EdType_ 1st-4th', 'EdType_ 5th-6th', 'EdType_ 7th-8th', 'EdType_ 9th', 'EdType_ Assoc-acdm', 'EdType_ Assoc-voc', 'EdType_ Bachelors', 'EdType_ Doctorate', 'EdType_ HS-grad', 'EdType_ Masters', 'EdType_ Preschool', 'EdType_ Prof-school', 'EdType_ Some-college', 'maritalstatus_ Married-AF-spouse', 'maritalstatus_ Married-civ-spouse', 'maritalstatus_ Married-spouse-absent', 'maritalstatus_ Never-married', 'maritalstatus_ Separated', 'maritalstatus_ Widowed', 'occupation_ Armed-Forces', 'occupation_ Craft-repair', 'occupation_ Exec-managerial', 'occupation_ Farming-fishing', 'occupation_ Handlers-cleaners', 'occupation_ Machine-op-inspct', 'occupation_ Other-service', 'occupation_ Priv-house-serv', 'occupation_ Prof-specialty', 'occupation_ Protective-serv', 'occupation_ Sales', 'occupation_ Tech-support', 'occupation_ Transport-moving', 'relationship_ Not-in-family', 'relationship_ Other-relative', 'relationship_ Own-child', 'relationship_ Unmarried', 'relationship_ Wife']\n"
     ]
    }
   ],
   "source": [
    "# Storing the column names\n",
    "columns_list=list(new_data2.columns)\n",
    "print(columns_list)"
   ]
  },
  {
   "cell_type": "code",
   "execution_count": 24,
   "metadata": {},
   "outputs": [
    {
     "name": "stdout",
     "output_type": "stream",
     "text": [
      "['relationship_ Wife', 'occupation_ Priv-house-serv', 'EdType_ 11th', 'maritalstatus_ Married-spouse-absent', 'occupation_ Other-service', 'EdType_ Assoc-voc', 'relationship_ Other-relative', 'age', 'hoursperweek', 'occupation_ Tech-support', 'capitalgain', 'relationship_ Own-child', 'maritalstatus_ Married-civ-spouse', 'occupation_ Handlers-cleaners', 'relationship_ Not-in-family', 'capitalloss', 'occupation_ Exec-managerial', 'EdType_ 9th', 'occupation_ Farming-fishing', 'EdType_ 1st-4th', 'EdType_ Prof-school', 'EdType_ Bachelors', 'EdType_ 5th-6th', 'occupation_ Craft-repair', 'maritalstatus_ Married-AF-spouse', 'maritalstatus_ Separated', 'maritalstatus_ Widowed', 'occupation_ Prof-specialty', 'EdType_ Preschool', 'EdType_ 7th-8th', 'relationship_ Unmarried', 'maritalstatus_ Never-married', 'occupation_ Protective-serv', 'EdType_ HS-grad', 'EdType_ 12th', 'EdType_ Masters', 'EdType_ Doctorate', 'EdType_ Assoc-acdm', 'occupation_ Machine-op-inspct', 'occupation_ Armed-Forces', 'EdType_ Some-college', 'occupation_ Transport-moving', 'occupation_ Sales']\n"
     ]
    }
   ],
   "source": [
    "# Seperating the input names from data \n",
    "features=list(set(columns_list)-set(['SalStat']))\n",
    "print(features)"
   ]
  },
  {
   "cell_type": "code",
   "execution_count": 25,
   "metadata": {},
   "outputs": [
    {
     "name": "stdout",
     "output_type": "stream",
     "text": [
      "[0 0 1 ..., 0 0 0]\n"
     ]
    }
   ],
   "source": [
    "# Storing the output value in y\n",
    "y = new_data2['SalStat'].values\n",
    "print(y)"
   ]
  },
  {
   "cell_type": "code",
   "execution_count": 26,
   "metadata": {
    "collapsed": true
   },
   "outputs": [],
   "source": [
    "# Storing the values from input features\n",
    "x = new_data2[features].values\n",
    "\n",
    "# splitting the data into train and test\n",
    "train_x, test_x, train_y, test_y = train_test_split(x ,y, test_size = 0.3, random_state = 0)\n",
    "# Make an instance of the Model\n",
    "logistic = LogisticRegression()"
   ]
  },
  {
   "cell_type": "markdown",
   "metadata": {},
   "source": [
    "## Building Dummy Clasifier (Baseline Model) on this cleaned dataset"
   ]
  },
  {
   "cell_type": "code",
   "execution_count": 27,
   "metadata": {},
   "outputs": [
    {
     "data": {
      "text/plain": [
       "array([0, 0, 0, ..., 0, 0, 0])"
      ]
     },
     "execution_count": 27,
     "metadata": {},
     "output_type": "execute_result"
    }
   ],
   "source": [
    "from sklearn.dummy import DummyClassifier\n",
    "\n",
    "#  class (0) is most frequent\n",
    "dummy_majority = DummyClassifier(strategy = 'most_frequent').fit(train_x, train_y)\n",
    "# Therefore the dummy 'most_frequent' classifier always predicts class 0\n",
    "y_dummy_predictions = dummy_majority.predict(test_x)\n",
    "\n",
    "y_dummy_predictions"
   ]
  },
  {
   "cell_type": "code",
   "execution_count": 28,
   "metadata": {},
   "outputs": [
    {
     "data": {
      "text/plain": [
       "0.75400596751022209"
      ]
     },
     "execution_count": 28,
     "metadata": {},
     "output_type": "execute_result"
    }
   ],
   "source": [
    "dummy_majority.score(test_x, test_y)"
   ]
  },
  {
   "cell_type": "markdown",
   "metadata": {},
   "source": [
    "### Hence, Our baseline accuracy is 0.7540059"
   ]
  },
  {
   "cell_type": "markdown",
   "metadata": {},
   "source": [
    "## Logistic Regression"
   ]
  },
  {
   "cell_type": "code",
   "execution_count": 29,
   "metadata": {},
   "outputs": [
    {
     "data": {
      "text/plain": [
       "LogisticRegression(C=1.0, class_weight=None, dual=False, fit_intercept=True,\n",
       "          intercept_scaling=1, max_iter=100, multi_class='ovr', n_jobs=1,\n",
       "          penalty='l2', random_state=None, solver='liblinear', tol=0.0001,\n",
       "          verbose=0, warm_start=False)"
      ]
     },
     "execution_count": 29,
     "metadata": {},
     "output_type": "execute_result"
    }
   ],
   "source": [
    "# Fitting the values for x and y\n",
    "logistic.fit(train_x, train_y)"
   ]
  },
  {
   "cell_type": "code",
   "execution_count": 30,
   "metadata": {},
   "outputs": [
    {
     "name": "stdout",
     "output_type": "stream",
     "text": [
      "(9049,)\n"
     ]
    }
   ],
   "source": [
    "# Prediction from test data\n",
    "prediction1 = logistic.predict(test_x)\n",
    "print(prediction1.shape)\n",
    "\n"
   ]
  },
  {
   "cell_type": "code",
   "execution_count": 66,
   "metadata": {},
   "outputs": [
    {
     "data": {
      "text/plain": [
       "numpy.ndarray"
      ]
     },
     "execution_count": 66,
     "metadata": {},
     "output_type": "execute_result"
    }
   ],
   "source": [
    "type(test_y)"
   ]
  },
  {
   "cell_type": "code",
   "execution_count": 67,
   "metadata": {},
   "outputs": [
    {
     "data": {
      "text/plain": [
       "numpy.ndarray"
      ]
     },
     "execution_count": 67,
     "metadata": {},
     "output_type": "execute_result"
    }
   ],
   "source": [
    "type(prediction1)"
   ]
  },
  {
   "cell_type": "code",
   "execution_count": 31,
   "metadata": {},
   "outputs": [
    {
     "name": "stdout",
     "output_type": "stream",
     "text": [
      "[[6317  506]\n",
      " [ 952 1274]]\n"
     ]
    }
   ],
   "source": [
    "# Confusion matrix\n",
    "from sklearn.metrics import accuracy_score, confusion_matrix\n",
    "cfm1 = confusion_matrix(test_y.tolist(), prediction1.tolist())\n",
    "print(cfm1)"
   ]
  },
  {
   "cell_type": "code",
   "execution_count": 32,
   "metadata": {},
   "outputs": [
    {
     "name": "stdout",
     "output_type": "stream",
     "text": [
      "0.838877224003\n"
     ]
    }
   ],
   "source": [
    "# Calculating the accuracy\n",
    "\n",
    "acc_score = accuracy_score(test_y.tolist(), prediction1.tolist())\n",
    "print(acc_score)"
   ]
  },
  {
   "cell_type": "code",
   "execution_count": 33,
   "metadata": {},
   "outputs": [
    {
     "name": "stdout",
     "output_type": "stream",
     "text": [
      "Misclassified samples: 1458\n"
     ]
    }
   ],
   "source": [
    "# Printing the misclassified values from prediction\n",
    "\n",
    "print('Misclassified samples: %d' % (test_y != prediction1).sum())"
   ]
  },
  {
   "cell_type": "markdown",
   "metadata": {
    "collapsed": true
   },
   "source": [
    "We can observe that accuracy decreases slightly and the misclassified samples increased from 1427 to 1458. However, this is a very mere (insignificant) decline in accuracy, therefore it is good decision to remove the insignificant variables as doing that decreases the computational complexity of model and doesn't affect accuracy much, therefore making our model Faster."
   ]
  },
  {
   "cell_type": "markdown",
   "metadata": {},
   "source": [
    "## Precision - Recall Curves."
   ]
  },
  {
   "cell_type": "code",
   "execution_count": 35,
   "metadata": {},
   "outputs": [
    {
     "name": "stderr",
     "output_type": "stream",
     "text": [
      "/Users/parthrajauria/anaconda3/lib/python3.6/site-packages/matplotlib/cbook/deprecation.py:106: MatplotlibDeprecationWarning: Adding an axes using the same arguments as a previous axes currently reuses the earlier instance.  In a future version, a new instance will always be created and returned.  Meanwhile, this warning can be suppressed, and the future behavior ensured, by passing a unique label to each axes instance.\n",
      "  warnings.warn(message, mplDeprecation, stacklevel=1)\n"
     ]
    },
    {
     "data": {
      "image/png": "[encoded data removed]",
      "text/plain": [
       "<matplotlib.figure.Figure at 0x1a0a590588>"
      ]
     },
     "metadata": {},
     "output_type": "display_data"
    }
   ],
   "source": [
    "from sklearn.metrics import precision_recall_curve\n",
    "\n",
    "precision, recall, thresholds = precision_recall_curve(test_y, prediction1)\n",
    "closest_zero = np.argmin(np.abs(thresholds))\n",
    "closest_zero_p = precision[closest_zero]\n",
    "closest_zero_r = recall[closest_zero]\n",
    "\n",
    "plt.figure()\n",
    "plt.xlim([0.0, 1.01])\n",
    "plt.ylim([0.0, 1.01])\n",
    "plt.plot(precision, recall, label='Precision-Recall Curve')\n",
    "plt.plot(closest_zero_p, closest_zero_r, 'o', markersize = 12, fillstyle = 'none', c='r', mew=3)\n",
    "plt.xlabel('Precision', fontsize=16)\n",
    "plt.ylabel('Recall', fontsize=16)\n",
    "plt.axes().set_aspect('equal')\n",
    "plt.show()"
   ]
  },
  {
   "cell_type": "markdown",
   "metadata": {},
   "source": [
    "## ROC curves, Area-Under-Curve(AUC)"
   ]
  },
  {
   "cell_type": "code",
   "execution_count": 36,
   "metadata": {},
   "outputs": [
    {
     "name": "stderr",
     "output_type": "stream",
     "text": [
      "/Users/parthrajauria/anaconda3/lib/python3.6/site-packages/matplotlib/cbook/deprecation.py:106: MatplotlibDeprecationWarning: Adding an axes using the same arguments as a previous axes currently reuses the earlier instance.  In a future version, a new instance will always be created and returned.  Meanwhile, this warning can be suppressed, and the future behavior ensured, by passing a unique label to each axes instance.\n",
      "  warnings.warn(message, mplDeprecation, stacklevel=1)\n"
     ]
    },
    {
     "data": {
      "image/png": "[encoded data removed]",
      "text/plain": [
       "<matplotlib.figure.Figure at 0x1036e96d8>"
      ]
     },
     "metadata": {},
     "output_type": "display_data"
    }
   ],
   "source": [
    "from sklearn.metrics import roc_curve, auc\n",
    "\n",
    "fpr_lr, tpr_lr, _ = roc_curve(test_y, prediction1)\n",
    "roc_auc_lr = auc(fpr_lr, tpr_lr)\n",
    "\n",
    "plt.figure()\n",
    "plt.xlim([-0.01, 1.00])\n",
    "plt.ylim([-0.01, 1.01])\n",
    "plt.plot(fpr_lr, tpr_lr, lw=3, label='LogRegr ROC curve (area = {:0.2f})'.format(roc_auc_lr))\n",
    "plt.xlabel('False Positive Rate', fontsize=16)\n",
    "plt.ylabel('True Positive Rate', fontsize=16)\n",
    "plt.title('ROC curve (1-of-10 digits classifier)', fontsize=16)\n",
    "plt.legend(loc='lower right', fontsize=13)\n",
    "plt.plot([0, 1], [0, 1], color='navy', lw=3, linestyle='--')\n",
    "plt.axes().set_aspect('equal')\n",
    "plt.show()"
   ]
  },
  {
   "cell_type": "markdown",
   "metadata": {},
   "source": [
    "# KNN"
   ]
  },
  {
   "cell_type": "code",
   "execution_count": 37,
   "metadata": {
    "collapsed": true
   },
   "outputs": [],
   "source": [
    "# importing the library of KNN\n",
    "from sklearn.neighbors import KNeighborsClassifier\n",
    "\n",
    "# importing library for plotting\n",
    "import matplotlib.pyplot as plt"
   ]
  },
  {
   "cell_type": "code",
   "execution_count": 38,
   "metadata": {},
   "outputs": [
    {
     "data": {
      "text/plain": [
       "KNeighborsClassifier(algorithm='auto', leaf_size=30, metric='minkowski',\n",
       "           metric_params=None, n_jobs=1, n_neighbors=5, p=2,\n",
       "           weights='uniform')"
      ]
     },
     "execution_count": 38,
     "metadata": {},
     "output_type": "execute_result"
    }
   ],
   "source": [
    "# creating a k nearest neighbors classifier\n",
    "KNN_classifier = KNeighborsClassifier(n_neighbors = 5)\n",
    "\n",
    "# Fitting the values for x and y\n",
    "KNN_classifier.fit(train_x, train_y)"
   ]
  },
  {
   "cell_type": "code",
   "execution_count": 39,
   "metadata": {},
   "outputs": [
    {
     "name": "stdout",
     "output_type": "stream",
     "text": [
      "\t predicted values\n",
      "Original Values \n",
      " [[6183  640]\n",
      " [ 861 1365]]\n"
     ]
    }
   ],
   "source": [
    "# Predicting the test values with model\n",
    "prediction = KNN_classifier.predict(test_x)\n",
    "\n",
    "# Performance metric check\n",
    "confusion_matrix = confusion_matrix(test_y, prediction)\n",
    "print(\"\\t\", \"predicted values\")\n",
    "print(\"Original Values\", \"\\n\", confusion_matrix)\n"
   ]
  },
  {
   "cell_type": "code",
   "execution_count": 40,
   "metadata": {},
   "outputs": [
    {
     "name": "stdout",
     "output_type": "stream",
     "text": [
      "0.834125317715\n",
      "Misclassified samples: 1501\n"
     ]
    }
   ],
   "source": [
    "# Calculating the accuracy\n",
    "accuracy_score = accuracy_score(test_y, prediction)\n",
    "print(accuracy_score)\n",
    "\n",
    "# Printing the misclassified values from prediction\n",
    "print('Misclassified samples: %d' % (test_y != prediction).sum())"
   ]
  },
  {
   "cell_type": "markdown",
   "metadata": {},
   "source": [
    "## Let's check the Effect of K value on Classifier"
   ]
  },
  {
   "cell_type": "code",
   "execution_count": 76,
   "metadata": {},
   "outputs": [
    {
     "name": "stdout",
     "output_type": "stream",
     "text": [
      "[1714, 1507, 1572, 1475, 1504, 1431, 1465, 1450, 1456, 1423, 1473, 1452, 1454, 1434, 1449, 1440, 1441, 1422, 1446]\n"
     ]
    }
   ],
   "source": [
    "Misclassified_sample = []\n",
    "# Calculating errors for k value between 1 and 20\n",
    "for i in range(1,20):\n",
    "    knn = KNeighborsClassifier(n_neighbors = i)\n",
    "    knn.fit(train_x, train_y)\n",
    "    pred_i = knn.predict(test_x)\n",
    "    Misclassified_sample.append((test_y != pred_i).sum())\n",
    "print(Misclassified_sample)    "
   ]
  },
  {
   "cell_type": "markdown",
   "metadata": {},
   "source": [
    "Hence, we can observe that the best accuracy is achieved when n_neighbors = 10, corresponding to 1423 misclassified points."
   ]
  },
  {
   "cell_type": "code",
   "execution_count": 81,
   "metadata": {
    "collapsed": true
   },
   "outputs": [],
   "source": [
    "import matplotlib.pyplot as plt\n",
    "k_range = range(1,30)\n",
    "scores = []\n",
    "\n",
    "for k in k_range:\n",
    "    knn = KNeighborsClassifier(n_neighbors = k)\n",
    "    knn.fit(train_x, train_y)\n",
    "    scores.append(knn.score(test_x, test_y))\n",
    "\n",
    "plt.figure()\n",
    "plt.xlabel('k')\n",
    "plt.ylabel('accuracy')\n",
    "plt.scatter(k_range, scores)\n",
    "plt.xticks([0,5,10,15,20,25,30]);"
   ]
  },
  {
   "cell_type": "code",
   "execution_count": 82,
   "metadata": {},
   "outputs": [
    {
     "data": {
      "image/png": "[encoded data removed]",
      "text/plain": [
       "<matplotlib.figure.Figure at 0x1a16a32e48>"
      ]
     },
     "metadata": {},
     "output_type": "display_data"
    }
   ],
   "source": [
    "plt.show()"
   ]
  },
  {
   "cell_type": "markdown",
   "metadata": {},
   "source": [
    "## Precision - Recall Curves."
   ]
  },
  {
   "cell_type": "code",
   "execution_count": 41,
   "metadata": {},
   "outputs": [
    {
     "name": "stderr",
     "output_type": "stream",
     "text": [
      "/Users/parthrajauria/anaconda3/lib/python3.6/site-packages/matplotlib/cbook/deprecation.py:106: MatplotlibDeprecationWarning: Adding an axes using the same arguments as a previous axes currently reuses the earlier instance.  In a future version, a new instance will always be created and returned.  Meanwhile, this warning can be suppressed, and the future behavior ensured, by passing a unique label to each axes instance.\n",
      "  warnings.warn(message, mplDeprecation, stacklevel=1)\n"
     ]
    },
    {
     "data": {
      "image/png": "[encoded data removed]",
      "text/plain": [
       "<matplotlib.figure.Figure at 0x1025e8a20>"
      ]
     },
     "metadata": {},
     "output_type": "display_data"
    }
   ],
   "source": [
    "from sklearn.metrics import precision_recall_curve\n",
    "\n",
    "precision, recall, thresholds = precision_recall_curve(test_y, prediction)\n",
    "closest_zero = np.argmin(np.abs(thresholds))\n",
    "closest_zero_p = precision[closest_zero]\n",
    "closest_zero_r = recall[closest_zero]\n",
    "\n",
    "plt.figure()\n",
    "plt.xlim([0.0, 1.01])\n",
    "plt.ylim([0.0, 1.01])\n",
    "plt.plot(precision, recall, label='Precision-Recall Curve')\n",
    "plt.plot(closest_zero_p, closest_zero_r, 'o', markersize = 12, fillstyle = 'none', c='r', mew=3)\n",
    "plt.xlabel('Precision', fontsize=16)\n",
    "plt.ylabel('Recall', fontsize=16)\n",
    "plt.axes().set_aspect('equal')\n",
    "plt.show()"
   ]
  },
  {
   "cell_type": "markdown",
   "metadata": {},
   "source": [
    "## ROC curves, Area-Under-Curve(AUC)"
   ]
  },
  {
   "cell_type": "code",
   "execution_count": 42,
   "metadata": {},
   "outputs": [
    {
     "name": "stderr",
     "output_type": "stream",
     "text": [
      "/Users/parthrajauria/anaconda3/lib/python3.6/site-packages/matplotlib/cbook/deprecation.py:106: MatplotlibDeprecationWarning: Adding an axes using the same arguments as a previous axes currently reuses the earlier instance.  In a future version, a new instance will always be created and returned.  Meanwhile, this warning can be suppressed, and the future behavior ensured, by passing a unique label to each axes instance.\n",
      "  warnings.warn(message, mplDeprecation, stacklevel=1)\n"
     ]
    },
    {
     "data": {
      "image/png": "[encoded data removed]",
      "text/plain": [
       "<matplotlib.figure.Figure at 0x1a09ec7080>"
      ]
     },
     "metadata": {},
     "output_type": "display_data"
    }
   ],
   "source": [
    "from sklearn.metrics import roc_curve, auc\n",
    "\n",
    "fpr_lr, tpr_lr, _ = roc_curve(test_y, prediction)\n",
    "roc_auc_lr = auc(fpr_lr, tpr_lr)\n",
    "\n",
    "plt.figure()\n",
    "plt.xlim([-0.01, 1.00])\n",
    "plt.ylim([-0.01, 1.01])\n",
    "plt.plot(fpr_lr, tpr_lr, lw=3, label='LogRegr ROC curve (area = {:0.2f})'.format(roc_auc_lr))\n",
    "plt.xlabel('False Positive Rate', fontsize=16)\n",
    "plt.ylabel('True Positive Rate', fontsize=16)\n",
    "plt.title('ROC curve (1-of-10 digits classifier)', fontsize=16)\n",
    "plt.legend(loc='lower right', fontsize=13)\n",
    "plt.plot([0, 1], [0, 1], color='navy', lw=3, linestyle='--')\n",
    "plt.axes().set_aspect('equal')\n",
    "plt.show()"
   ]
  },
  {
   "cell_type": "markdown",
   "metadata": {},
   "source": [
    "# CONCLUSION"
   ]
  },
  {
   "cell_type": "markdown",
   "metadata": {},
   "source": [
    "In this project, we build classifiers using Logistice Regression and KNN classifiers to decide subsidy allotment for individuals based on demographic and financial parameters."
   ]
  },
  {
   "cell_type": "markdown",
   "metadata": {},
   "source": [
    "# END OF PROJECT"
   ]
  },
  {
   "cell_type": "markdown",
   "metadata": {},
   "source": [
    "## This Project is part of NPTEL Course 'Python for DataScience' by  Prof. Raghunathan Rengasamy from IIT MADRAS."
   ]
  },
  {
   "cell_type": "code",
   "execution_count": null,
   "metadata": {
    "collapsed": true
   },
   "outputs": [],
   "source": []
  }
 ],
 "metadata": {
  "kernelspec": {
   "display_name": "Python 3",
   "language": "python",
   "name": "python3"
  },
  "language_info": {
   "codemirror_mode": {
    "name": "ipython",
    "version": 3
   },
   "file_extension": ".py",
   "mimetype": "text/x-python",
   "name": "python",
   "nbconvert_exporter": "python",
   "pygments_lexer": "ipython3",
   "version": "3.6.3"
  }
 },
 "nbformat": 4,
 "nbformat_minor": 2
}
